{
  "cells": [
    {
      "cell_type": "markdown",
      "metadata": {
        "id": "view-in-github",
        "colab_type": "text"
      },
      "source": [
        "<a href=\"https://colab.research.google.com/github/zahraa-elhareedy/Face_Recognition/blob/main/Face_recognition.ipynb\" target=\"_parent\"><img src=\"https://colab.research.google.com/assets/colab-badge.svg\" alt=\"Open In Colab\"/></a>"
      ]
    },
    {
      "cell_type": "markdown",
      "metadata": {
        "id": "AKg_gg4Vw493"
      },
      "source": [
        "Imports"
      ]
    },
    {
      "cell_type": "code",
      "execution_count": 1,
      "metadata": {
        "id": "L8z2XljbqgCV"
      },
      "outputs": [],
      "source": [
        "from sklearn import metrics\n",
        "import os\n",
        "import numpy as np\n",
        "from PIL import Image\n",
        "from zipfile import ZipFile\n",
        "from sklearn.metrics.pairwise import euclidean_distances\n",
        "from sklearn.metrics import accuracy_score\n",
        "from collections import Counter\n",
        "import matplotlib.pyplot as plt\n",
        "from keras.datasets import cifar10\n",
        "from sklearn import metrics\n",
        "import time"
      ]
    },
    {
      "cell_type": "markdown",
      "metadata": {
        "id": "3D45QMObw_vD"
      },
      "source": [
        "Unzipping"
      ]
    },
    {
      "cell_type": "code",
      "execution_count": 8,
      "metadata": {
        "id": "wo8bgsvLxC7A"
      },
      "outputs": [],
      "source": [
        "\n",
        "folder_name = '/archive.zip'\n",
        "with ZipFile(folder_name, 'r') as zip:\n",
        "  zip.extractall('/dataset')\n",
        "\n"
      ]
    },
    {
      "cell_type": "markdown",
      "metadata": {
        "id": "x-XXL2NQ49en"
      },
      "source": [
        "Generate the Data Matrix and the Label vector"
      ]
    },
    {
      "cell_type": "code",
      "execution_count": 9,
      "metadata": {
        "colab": {
          "base_uri": "https://localhost:8080/"
        },
        "id": "yF8z5lHl492I",
        "outputId": "ec521cfb-ddef-4270-e096-31067d52d7ab"
      },
      "outputs": [
        {
          "output_type": "stream",
          "name": "stdout",
          "text": [
            "Data Matrix D shape: (400, 10304)\n",
            "Label vector y shape: (400,)\n"
          ]
        }
      ],
      "source": [
        "subjects_no = 40\n",
        "images_per_subject = 10\n",
        "width = 92\n",
        "height = 112\n",
        "D = np.empty([subjects_no * images_per_subject , width * height])\n",
        "y = np.empty(subjects_no * images_per_subject)\n",
        "for i in range(1,subjects_no+1) : #loop on each subject inside main folder\n",
        "  for j in range(1,images_per_subject+1): #loop for each image in each subject\n",
        "            image_path = os.path.join('/dataset', f's{i}', f'{j}.pgm')\n",
        "            image = Image.open(image_path)\n",
        "            #np.array(image).shape gives (112 , 92) which are the dimensions of each image\n",
        "            image_vector = np.array(image).reshape(-1) #convert it into 1D\n",
        "            #len(image_vector) gives 10304 which is 92 x 112\n",
        "            D[(i-1)*images_per_subject+(j-1) ,: ] = image_vector\n",
        "            y[(i-1)*images_per_subject+(j-1) ] = i\n",
        "\n",
        "print(f'Data Matrix D shape: {D.shape}')\n",
        "print(f'Label vector y shape: {y.shape}')"
      ]
    },
    {
      "cell_type": "code",
      "execution_count": 10,
      "metadata": {
        "id": "rCu0l5F-QA3V"
      },
      "outputs": [],
      "source": [
        "def split_data(D,y,training_set_indices,testing_set_indices):\n",
        "  training_set = D[training_set_indices]\n",
        "  testing_set = D[testing_set_indices]\n",
        "  training_labels = y[training_set_indices] \n",
        "  testing_labels = y[testing_set_indices] \n",
        "  print(training_set)\n",
        "  print(testing_set.shape)\n",
        "  print(testing_labels.shape)\n",
        "  print(training_labels.shape)\n",
        "  return training_set, testing_set, training_labels, testing_labels "
      ]
    },
    {
      "cell_type": "markdown",
      "metadata": {
        "id": "EELcrAdyAV3Q"
      },
      "source": [
        "Find First Occurence"
      ]
    },
    {
      "cell_type": "code",
      "execution_count": 11,
      "metadata": {
        "id": "uHV_PnLQxl5V"
      },
      "outputs": [],
      "source": [
        "def find_first_occurrence(neighbor_labels, max_elements):\n",
        "    for elem in neighbor_labels:\n",
        "        if elem in max_elements:\n",
        "            return elem\n",
        "    return None"
      ]
    },
    {
      "cell_type": "markdown",
      "metadata": {
        "id": "CnvxYKt3AhkY"
      },
      "source": [
        "Voting"
      ]
    },
    {
      "cell_type": "code",
      "execution_count": 12,
      "metadata": {
        "id": "u5srruJBsQeg"
      },
      "outputs": [],
      "source": [
        "def voting(neighbor_label):\n",
        "  winning_labels = []\n",
        "  for row in neighbor_label:\n",
        "    counts = Counter(row)\n",
        "    # Find the elements with the highest count\n",
        "    max_count = 0\n",
        "    max_elements = []\n",
        "    for element, count in counts.items():\n",
        "        if count > max_count:\n",
        "            max_count = count\n",
        "            max_elements = [element]\n",
        "        elif count == max_count:\n",
        "            max_elements.append(element)\n",
        "    if len(max_elements) > 1 :\n",
        "      max_elements = [find_first_occurrence(row,max_elements)]\n",
        "    winning_labels.append(max_elements)\n",
        "  return winning_labels  "
      ]
    },
    {
      "cell_type": "markdown",
      "metadata": {
        "id": "rtzmRyYJAlrC"
      },
      "source": [
        "KNN"
      ]
    },
    {
      "cell_type": "code",
      "execution_count": 13,
      "metadata": {
        "id": "Kh7Gx3D2Siwj"
      },
      "outputs": [],
      "source": [
        "def KNN(k, projected_test, projected_train,training_labels,testing_labels,faces_nf_test=[],faces_nf_train=[]):\n",
        "  euclidean_distance = euclidean_distances(projected_test,projected_train)\n",
        "  neighbor_index = np.argsort(euclidean_distance)[:,0:k]\n",
        "  neighbor_label = training_labels[neighbor_index]\n",
        "  accuracy = accuracy_score(testing_labels,neighbor_label)\n",
        "  if k != 1:\n",
        "    neighbor_label = voting(neighbor_label)   \n",
        "  if testing_labels[0] == 1: # faces dataset\n",
        "    test_against_neighbor(testing_labels,neighbor_label,testing_set,training_set,neighbor_index)\n",
        "  if testing_labels[0] == 0: # face vs non face dataset\n",
        "    confusion_matrix = metrics.confusion_matrix(testing_labels,neighbor_label)\n",
        "    cm_display = metrics.ConfusionMatrixDisplay(confusion_matrix = confusion_matrix)\n",
        "    cm_display.plot()\n",
        "    plt.show()\n",
        "    show_success_failure(testing_labels,neighbor_label,faces_nf_test,faces_nf_train,neighbor_index)  \n",
        "  return accuracy*100"
      ]
    },
    {
      "cell_type": "markdown",
      "metadata": {
        "id": "CF96o7xZQ44e"
      },
      "source": [
        "Classification using PCA"
      ]
    },
    {
      "cell_type": "code",
      "execution_count": 14,
      "metadata": {
        "id": "OteH3eXvZRKX"
      },
      "outputs": [],
      "source": [
        "def PCA(training_set):\n",
        "  mean_vector = training_set.mean(axis=0)\n",
        "  Z = training_set - mean_vector #centralize data\n",
        "  Z_t = np.transpose(Z)\n",
        "  cov_matrix = np.dot(Z_t,Z)/training_set.shape[0]\n",
        "  eigen_values, U = np.linalg.eigh(cov_matrix)\n",
        "  indices = np.argsort(eigen_values)[::-1] #sort descendingly \n",
        "  eigen_values_vector = eigen_values[indices] \n",
        "  eigen_values = np.diag(eigen_values_vector)\n",
        "  U = U[:,indices]\n",
        "  print(U.shape)\n",
        "  print(eigen_values.shape)\n",
        "  verified = np.dot(U,eigen_values)\n",
        "  verified = np.dot(verified,np.transpose(U))\n",
        "  print(np.allclose(cov_matrix, verified, rtol=1e-3, atol=1e-3)) #check if verified maps back to D\n",
        "  return U , Z , eigen_values"
      ]
    },
    {
      "cell_type": "markdown",
      "metadata": {
        "id": "p7lEQMzAWyvm"
      },
      "source": [
        "LDA"
      ]
    },
    {
      "cell_type": "code",
      "execution_count": 15,
      "metadata": {
        "id": "LMc3st7qkgEo"
      },
      "outputs": [],
      "source": [
        "def LDA(training_set,training_labels,subjects_no,width,height,eigen_vector_no):\n",
        "  total_mean = training_set.mean(axis=0)  \n",
        "  Sb = np.zeros((width*height,width*height))\n",
        "  S = np.zeros((width*height,width*height))\n",
        "  class_mean = np.empty([subjects_no,width*height])\n",
        "  for id in range(1,subjects_no+1):\n",
        "    class_matrix = training_set[training_labels == id ]  #select data in this class \n",
        "    samples_no_per_class = class_matrix.shape[0]\n",
        "    class_mean[id-1] = class_matrix.mean(axis=0)\n",
        "\n",
        "    class_Z = class_matrix - class_mean[id-1]\n",
        "    class_Z_transpose = np.transpose(class_Z)\n",
        "    Si = np.dot(class_Z_transpose,class_Z)\n",
        "    S = S + Si\n",
        "    mean_diff = (class_mean[id-1] - total_mean).reshape(width*height,1)\n",
        "    mean_diff_transpose = np.transpose(mean_diff)\n",
        "    Sb = Sb + samples_no_per_class * np.dot(mean_diff,mean_diff_transpose)\n",
        "\n",
        "  S_inv = np.linalg.inv(S)\n",
        "  S_inv_Sb = np.dot(S_inv,Sb)\n",
        "  lamda_eigen_values, w = np.linalg.eigh(S_inv_Sb)\n",
        "  lamda_indices = np.argsort(lamda_eigen_values)[::-1] #sort descendingly \n",
        "  lamda_eigen_values_sorted = lamda_eigen_values[lamda_indices] \n",
        "  w = w[lamda_indices]\n",
        "  print(w.shape)\n",
        "  U_lda = w[:,0:eigen_vector_no]\n",
        "  return U_lda"
      ]
    },
    {
      "cell_type": "markdown",
      "metadata": {
        "id": "bfacZ8VhfiGe"
      },
      "source": [
        "Choosing Dimensions"
      ]
    },
    {
      "cell_type": "code",
      "execution_count": 16,
      "metadata": {
        "id": "vs1MaB5Afnup"
      },
      "outputs": [],
      "source": [
        "def dimensions( alpha, eigen_values):\n",
        "  r = 0 #dimensions\n",
        "  explained_variance = 0\n",
        "  sum = np.sum(eigen_values) #get total \n",
        "  for value in eigen_values :\n",
        "    explained_variance = explained_variance + value[r] #each time add a value\n",
        "    r = r + 1\n",
        "    if ((explained_variance / sum) >= alpha): #check if threshold is reached\n",
        "      break\n",
        "  return r\n"
      ]
    },
    {
      "cell_type": "code",
      "execution_count": 17,
      "metadata": {
        "id": "dJIEbjBsEfye"
      },
      "outputs": [],
      "source": [
        "def Prepare_non_faces(train_nf, test_nf) :\n",
        "  # Convert the color images to grayscale and resize to 92x112\n",
        "  train_non_faces = []\n",
        "  for img in train_nf:\n",
        "      pil_img = Image.fromarray(img).convert('L').resize((92, 112)) #convert to gray images with size 92*112 \n",
        "      gray_img = np.array(pil_img.getdata()).reshape((112, 92))\n",
        "      gray_img_vector = np.array(gray_img).reshape(-1) # convert to a 1-D vector\n",
        "      train_non_faces.append(gray_img_vector)\n",
        "  train_non_faces = np.array(train_non_faces)\n",
        "\n",
        "  test_non_faces = []\n",
        "  for img in test_nf:\n",
        "      pil_img = Image.fromarray(img).convert('L').resize((92, 112))\n",
        "      gray_img = np.array(pil_img.getdata()).reshape((112, 92))\n",
        "      gray_img_vector = np.array(gray_img).reshape(-1)\n",
        "      test_non_faces.append(gray_img_vector)\n",
        "      \n",
        "  test_non_faces = np.array(test_non_faces)\n",
        "  return train_non_faces,test_non_faces"
      ]
    },
    {
      "cell_type": "code",
      "execution_count": 18,
      "metadata": {
        "id": "LaBXiwx1v9nW"
      },
      "outputs": [],
      "source": [
        "def binary_LDA(faces_nf_train,train_labels_f_nf):\n",
        "  class_non_faces = faces_nf_train[train_labels_f_nf == 0 ]  #select data in this class\n",
        "  class_faces = faces_nf_train[train_labels_f_nf == 1 ]  #select data in this class\n",
        "  Mean1=class_non_faces.mean(axis=0)\n",
        "  Mean2=class_faces.mean(axis=0)\n",
        "  B=(Mean1-Mean2).reshape(width*height,1)\n",
        "  B_t=np.transpose(B)\n",
        "  print(B.shape)\n",
        "  SB=[]\n",
        "  SB=np.dot(B,B_t)\n",
        "  print(SB.shape)\n",
        "\n",
        "  class_non_faces_centred= class_non_faces - Mean1\n",
        "  class_non_faces_t = np.transpose(class_non_faces_centred)\n",
        "  class_faces_centred= class_faces - Mean2\n",
        "  class_faces_t = np.transpose(class_faces_centred)\n",
        "  S1 = np.dot(class_non_faces_t,class_non_faces_centred)\n",
        "  S2 = np.dot(class_faces_t,class_faces_centred) \n",
        "  SW = S1 + S2\n",
        "  SW_inv = np.linalg.inv(SW)\n",
        "  test= np.dot(SW_inv,SB)\n",
        "  eigen_values,eigen_vector=np.linalg.eigh(test)\n",
        "  indeces=np.argsort(eigen_values)[::-1] \n",
        "  eigen_values=eigen_values[indeces] \n",
        "  eigen_vector=eigen_vector[:,indeces]\n",
        "  print(eigen_values.shape)\n",
        "  print(eigen_vector.shape)\n",
        "  return eigen_values,eigen_vector"
      ]
    },
    {
      "cell_type": "code",
      "execution_count": 19,
      "metadata": {
        "id": "LsZviC-f6_Uu"
      },
      "outputs": [],
      "source": [
        "def display_photos(index,testing_set,training_set,neighbor_index,testing_label,neighbor_label):\n",
        "  face_nf_image_train=np.array(training_set[neighbor_index]).reshape(112,92)\n",
        "  img_train = Image.fromarray( face_nf_image_train)\n",
        "  face_nf_image_test=np.array(testing_set[index]).reshape(112,92)\n",
        "  img_test = Image.fromarray( face_nf_image_test)\n",
        "  # Display the image\n",
        "  print(\"training\")\n",
        "  print(neighbor_label)\n",
        "  img_train.show()\n",
        "  print(\"testing\")\n",
        "  print(testing_label)\n",
        "  img_test.show()\n"
      ]
    },
    {
      "cell_type": "code",
      "source": [
        "def test_against_neighbor(testing_labels,neighbor_labels,testing_set,training_set,neighbor_indices):\n",
        "  counter =0\n",
        "  while counter < 3 :\n",
        "    random_index = np.random.choice(testing_labels.shape[0], 1, replace=False) \n",
        "    neighbor_index = neighbor_indices[random_index]\n",
        "    if testing_labels[random_index] == neighbor_labels[random_index]:\n",
        "      print(\"This face is correctly classified to its class\")\n",
        "      display_photos(random_index,testing_set,training_set,neighbor_index,testing_labels[random_index],neighbor_labels[random_index])\n",
        "      print(\"-------------------------------------\")\n",
        "    elif testing_labels[random_index] != neighbor_labels[random_index]:\n",
        "      print(\"This face is incorrectly classified to a wrong class\")\n",
        "      display_photos(random_index,testing_set,training_set,neighbor_index,testing_labels[random_index],neighbor_labels[random_index])\n",
        "      print(\"-------------------------------------\")\n",
        "    counter = counter + 1"
      ],
      "metadata": {
        "id": "tAN7HyunuM-b"
      },
      "execution_count": 3,
      "outputs": []
    },
    {
      "cell_type": "code",
      "execution_count": 4,
      "metadata": {
        "id": "1u38FrRyjSAy"
      },
      "outputs": [],
      "source": [
        "def show_success_failure(testing_labels,neighbor_labels,testing_set,training_set,neighbor_indices):\n",
        "  tp = 0\n",
        "  tn = 0\n",
        "  fp = 0\n",
        "  fn = 0\n",
        "  counter = 0\n",
        "  while (not(tp and tn and fp and fn)) and counter < 100:\n",
        "    random_index = np.random.choice(testing_labels.shape[0], 1, replace=False) \n",
        "    if testing_labels[random_index] == neighbor_labels[random_index]:\n",
        "      if testing_labels[random_index] == 1 and tp ==0 : # correctly classified as faces\n",
        "        tp = 1\n",
        "        tp_index = random_index \n",
        "        neighbor_index = neighbor_indices[random_index]\n",
        "        print(\"correctly classified as faces\")\n",
        "        display_photos(tp_index,testing_set,training_set,neighbor_index,testing_labels[random_index],neighbor_labels[random_index])\n",
        "        print(\"-------------------------------------\")\n",
        "      elif testing_labels[random_index] == 0 and tn == 0:# correctly classified as non-faces\n",
        "        tn = 1\n",
        "        tn_index = random_index\n",
        "        neighbor_index = neighbor_indices[random_index]\n",
        "        print(\"correctly classified as non-faces\")\n",
        "        display_photos(tn_index,testing_set,training_set,neighbor_index,testing_labels[random_index],neighbor_labels[random_index])\n",
        "        print(\"-------------------------------------\")\n",
        "    elif testing_labels[random_index] == 0 and fp == 0: # incorrectly classified as faces\n",
        "      fp = 1\n",
        "      fp_index = random_index\n",
        "      neighbor_index = neighbor_indices[random_index]\n",
        "      print(\"incorrectly classified as faces\")\n",
        "      display_photos(fp_index,testing_set,training_set,neighbor_index,testing_labels[random_index],neighbor_labels[random_index])\n",
        "      print(\"-------------------------------------\")\n",
        "    elif testing_labels[random_index] == 1 and fn == 0: # incorrectly classified as non-faces\n",
        "      fn = 1\n",
        "      fn_index = random_index\n",
        "      neighbor_index = neighbor_indices[random_index]\n",
        "      print(\"incorrectly classified as non-faces\")\n",
        "      display_photos(fn_index,testing_set,training_set,neighbor_index,testing_labels[random_index],neighbor_labels[random_index])\n",
        "      print(\"-------------------------------------\")\n",
        "    counter = counter + 1"
      ]
    },
    {
      "cell_type": "markdown",
      "metadata": {
        "id": "LnTnxISjSCne"
      },
      "source": [
        "Kernel PCA"
      ]
    },
    {
      "cell_type": "markdown",
      "metadata": {
        "id": "0xafTzT9XYWR"
      },
      "source": [
        "gamma = 1 / training_set.shape[1] # default gamma is 1 / n_features"
      ]
    },
    {
      "cell_type": "code",
      "execution_count": 5,
      "metadata": {
        "id": "37zTLD9Yl1pm"
      },
      "outputs": [],
      "source": [
        "def kernel_pca(training_set,gamma):\n",
        "  mean_vector = training_set.mean(axis=0)\n",
        "  Z_kernel = training_set - mean_vector #centralize data\n",
        "\n",
        "  # Calculate euclidean distances of each pair of points in the data set\n",
        "  dist = euclidean_distances(training_set, training_set, squared=True)\n",
        "\n",
        "  # Calculate Gaussian kernel matrix\n",
        "  K = np.exp(-gamma * dist)\n",
        "  # Center the kernel matrix\n",
        "  n = K.shape[0]\n",
        "  one_n = np.ones((n, n)) / n\n",
        "  K = K - np.dot(one_n, K) - np.dot(K, one_n) + np.dot(one_n, np.dot(K, one_n))\n",
        "\n",
        "  eigen_values, U_kernel = np.linalg.eigh(K)\n",
        "  indices = np.argsort(eigen_values)[::-1] #sort descendingly \n",
        "  eigen_values_vector = eigen_values[indices] \n",
        "  eigen_values_kernel = np.diag(eigen_values_vector)\n",
        "  U_kernel = U_kernel[:,indices]\n",
        "  print(U_kernel.shape)\n",
        "  print(eigen_values.shape)\n",
        "  return U_kernel , Z_kernel , eigen_values_kernel"
      ]
    },
    {
      "cell_type": "markdown",
      "metadata": {
        "id": "jFy85bkXSLgX"
      },
      "source": [
        "Regularized LDA"
      ]
    },
    {
      "cell_type": "code",
      "execution_count": 36,
      "metadata": {
        "id": "FB_tK2t0C8x4"
      },
      "outputs": [],
      "source": [
        "def regularized_LDA(training_set, training_labels, subjects_no, width, height, alpha):\n",
        "    total_mean = training_set.mean(axis=0)\n",
        "    Sb = np.zeros((width*height, width*height))\n",
        "    Sw = np.zeros((width*height, width*height))\n",
        "    class_mean = np.empty([subjects_no, width*height])\n",
        "    for id in range(1, subjects_no+1):\n",
        "        class_matrix = training_set[training_labels == id] # select data in this class\n",
        "        samples_no_per_class = class_matrix.shape[0]\n",
        "        class_mean[id-1] = class_matrix.mean(axis=0)\n",
        "        class_Z = class_matrix - class_mean[id-1]\n",
        "        class_Z_transpose = np.transpose(class_Z)\n",
        "        Si = np.dot(class_Z_transpose, class_Z)\n",
        "        Sw = Sw + Si\n",
        "\n",
        "        mean_diff = (class_mean[id-1] - total_mean).reshape(width*height, 1)\n",
        "        mean_diff_transpose = np.transpose(mean_diff)\n",
        "        Sb = Sb + samples_no_per_class * np.dot(mean_diff, mean_diff_transpose)\n",
        "\n",
        "    Sw = Sw + alpha*np.eye(width*height) # add regularization term\n",
        "    Sw_inv = np.linalg.inv(Sw)\n",
        "    Sw_inv_Sb = np.dot(Sw_inv, Sb)\n",
        "    lamda_eigen_values, w = np.linalg.eigh(Sw_inv_Sb)\n",
        "    lamda_indices = np.argsort(lamda_eigen_values)[::-1] # sort descendingly \n",
        "    lamda_eigen_values = lamda_eigen_values[lamda_indices]\n",
        "    w = w[:,lamda_indices]\n",
        "    return w, lamda_eigen_values"
      ]
    },
    {
      "cell_type": "markdown",
      "metadata": {
        "id": "C8c9_jW2LaRL"
      },
      "source": [
        " Split the Dataset into Training and Test sets (50-50)"
      ]
    },
    {
      "cell_type": "code",
      "execution_count": 20,
      "metadata": {
        "colab": {
          "base_uri": "https://localhost:8080/"
        },
        "id": "N-YWCYsULdsa",
        "outputId": "29f7c442-603a-4d70-ce80-0eb86e12472c"
      },
      "outputs": [
        {
          "output_type": "stream",
          "name": "stdout",
          "text": [
            "[[ 60.  60.  62. ...  32.  34.  34.]\n",
            " [ 63.  53.  35. ...  41.  10.  24.]\n",
            " [ 43.  50.  41. ... 158. 153. 169.]\n",
            " ...\n",
            " [123. 121. 126. ...  40.  35.  42.]\n",
            " [125. 119. 124. ...  36.  39.  40.]\n",
            " [125. 124. 124. ...  36.  35.  34.]]\n",
            "(200, 10304)\n",
            "(200,)\n",
            "(200,)\n"
          ]
        }
      ],
      "source": [
        "training_set_indices = np.arange(1,400,2) #returns evenly spaced values within the given interval, for odd\n",
        "testing_set_indices = np.arange(0,400,2) #for even\n",
        "training_set, testing_set, training_labels, testing_labels  = split_data(D,y,training_set_indices,testing_set_indices)\n"
      ]
    },
    {
      "cell_type": "markdown",
      "metadata": {
        "id": "VcmjIEnrZ0jF"
      },
      "source": [
        "Different Split of Dataset into Training and Testing sets (70-30)"
      ]
    },
    {
      "cell_type": "code",
      "execution_count": 21,
      "metadata": {
        "colab": {
          "base_uri": "https://localhost:8080/"
        },
        "id": "enT3pIZbZ2V3",
        "outputId": "ce77ec1e-718f-4571-ddf4-fdbaceac6714"
      },
      "outputs": [
        {
          "output_type": "stream",
          "name": "stdout",
          "text": [
            "[0, 1, 2, 3, 4, 5, 6, 10, 11, 12, 13, 14, 15, 16, 20, 21, 22, 23, 24, 25, 26, 30, 31, 32, 33, 34, 35, 36, 40, 41, 42, 43, 44, 45, 46, 50, 51, 52, 53, 54, 55, 56, 60, 61, 62, 63, 64, 65, 66, 70, 71, 72, 73, 74, 75, 76, 80, 81, 82, 83, 84, 85, 86, 90, 91, 92, 93, 94, 95, 96, 100, 101, 102, 103, 104, 105, 106, 110, 111, 112, 113, 114, 115, 116, 120, 121, 122, 123, 124, 125, 126, 130, 131, 132, 133, 134, 135, 136, 140, 141, 142, 143, 144, 145, 146, 150, 151, 152, 153, 154, 155, 156, 160, 161, 162, 163, 164, 165, 166, 170, 171, 172, 173, 174, 175, 176, 180, 181, 182, 183, 184, 185, 186, 190, 191, 192, 193, 194, 195, 196, 200, 201, 202, 203, 204, 205, 206, 210, 211, 212, 213, 214, 215, 216, 220, 221, 222, 223, 224, 225, 226, 230, 231, 232, 233, 234, 235, 236, 240, 241, 242, 243, 244, 245, 246, 250, 251, 252, 253, 254, 255, 256, 260, 261, 262, 263, 264, 265, 266, 270, 271, 272, 273, 274, 275, 276, 280, 281, 282, 283, 284, 285, 286, 290, 291, 292, 293, 294, 295, 296, 300, 301, 302, 303, 304, 305, 306, 310, 311, 312, 313, 314, 315, 316, 320, 321, 322, 323, 324, 325, 326, 330, 331, 332, 333, 334, 335, 336, 340, 341, 342, 343, 344, 345, 346, 350, 351, 352, 353, 354, 355, 356, 360, 361, 362, 363, 364, 365, 366, 370, 371, 372, 373, 374, 375, 376, 380, 381, 382, 383, 384, 385, 386, 390, 391, 392, 393, 394, 395, 396]\n",
            "[7, 8, 9, 17, 18, 19, 27, 28, 29, 37, 38, 39, 47, 48, 49, 57, 58, 59, 67, 68, 69, 77, 78, 79, 87, 88, 89, 97, 98, 99, 107, 108, 109, 117, 118, 119, 127, 128, 129, 137, 138, 139, 147, 148, 149, 157, 158, 159, 167, 168, 169, 177, 178, 179, 187, 188, 189, 197, 198, 199, 207, 208, 209, 217, 218, 219, 227, 228, 229, 237, 238, 239, 247, 248, 249, 257, 258, 259, 267, 268, 269, 277, 278, 279, 287, 288, 289, 297, 298, 299, 307, 308, 309, 317, 318, 319, 327, 328, 329, 337, 338, 339, 347, 348, 349, 357, 358, 359, 367, 368, 369, 377, 378, 379, 387, 388, 389, 397, 398, 399]\n",
            "[[ 48.  49.  45. ...  47.  46.  46.]\n",
            " [ 60.  60.  62. ...  32.  34.  34.]\n",
            " [ 39.  44.  53. ...  29.  26.  29.]\n",
            " ...\n",
            " [128. 125. 125. ...  85.  90.  84.]\n",
            " [123. 121. 126. ...  40.  35.  42.]\n",
            " [129. 127. 133. ...  93.  93.  93.]]\n",
            "(120, 10304)\n",
            "(120,)\n",
            "(280,)\n"
          ]
        }
      ],
      "source": [
        "training_set_indices_new = []\n",
        "testing_set_indices_new = []\n",
        "for i in range(0,subjects_no * images_per_subject, 10) :\n",
        "  for j in range(i,i+7) :\n",
        "    training_set_indices_new.append(j)\n",
        "  for j in range(i+7,i+10) :\n",
        "    testing_set_indices_new.append(j)\n",
        "print(training_set_indices_new)\n",
        "print(testing_set_indices_new)\n",
        "training_set_new, testing_set_new, training_labels_new, testing_labels_new  = split_data(D,y,training_set_indices_new,testing_set_indices_new)"
      ]
    },
    {
      "cell_type": "markdown",
      "metadata": {
        "id": "8bq-FM4tMFxd"
      },
      "source": [
        "PCA"
      ]
    },
    {
      "cell_type": "code",
      "execution_count": 22,
      "metadata": {
        "colab": {
          "base_uri": "https://localhost:8080/"
        },
        "id": "Jus_qDWnL3M2",
        "outputId": "c881f44e-ab86-4f0c-adb1-b397ca8527a7"
      },
      "outputs": [
        {
          "output_type": "stream",
          "name": "stdout",
          "text": [
            "(10304, 10304)\n",
            "(10304, 10304)\n",
            "True\n",
            "430.4947774410248\n"
          ]
        }
      ],
      "source": [
        "start_PCA = time.time()\n",
        "U ,Z , eigen_values= PCA(training_set)\n",
        "end_PCA = time.time()\n",
        "runtime_PCA = end_PCA - start_PCA\n",
        "print(runtime_PCA)"
      ]
    },
    {
      "cell_type": "markdown",
      "metadata": {
        "id": "GmRixRvFaap8"
      },
      "source": [
        "PCA New"
      ]
    },
    {
      "cell_type": "code",
      "execution_count": null,
      "metadata": {
        "colab": {
          "base_uri": "https://localhost:8080/"
        },
        "id": "XZspp5Efad1D",
        "outputId": "775e2fd0-564d-4e6f-b58d-e9e68d28bf83"
      },
      "outputs": [
        {
          "output_type": "stream",
          "name": "stdout",
          "text": [
            "(10304, 10304)\n",
            "(10304, 10304)\n",
            "True\n"
          ]
        }
      ],
      "source": [
        "U_new ,Z_new , eigen_values_new= PCA(training_set_new)"
      ]
    },
    {
      "cell_type": "markdown",
      "metadata": {
        "id": "FPNVibIWhYHV"
      },
      "source": [
        "Centering testing data\n"
      ]
    },
    {
      "cell_type": "code",
      "execution_count": 23,
      "metadata": {
        "id": "6lnb6mPdcN5D"
      },
      "outputs": [],
      "source": [
        "mean_testing = testing_set.mean(axis=0)\n",
        "Z_testing = testing_set - mean_testing"
      ]
    },
    {
      "cell_type": "markdown",
      "metadata": {
        "id": "_bVspc02bE1u"
      },
      "source": [
        "Centering new testing data"
      ]
    },
    {
      "cell_type": "code",
      "execution_count": null,
      "metadata": {
        "id": "oFnVX-2GbI2_"
      },
      "outputs": [],
      "source": [
        "mean_testing_new = testing_set_new.mean(axis=0)\n",
        "Z_testing_new = testing_set_new - mean_testing_new"
      ]
    },
    {
      "cell_type": "markdown",
      "metadata": {
        "id": "fX1SHiGi-IF0"
      },
      "source": [
        "Differenet dimensionality for different alpha or eigen values"
      ]
    },
    {
      "cell_type": "markdown",
      "metadata": {
        "id": "3poH7RIMAk_L"
      },
      "source": [
        "alpha 1, 80%"
      ]
    },
    {
      "cell_type": "code",
      "execution_count": null,
      "metadata": {
        "colab": {
          "base_uri": "https://localhost:8080/"
        },
        "id": "6Qww6jFIjzNU",
        "outputId": "fe5142cf-fe4e-43cb-aa87-08e509d84a32"
      },
      "outputs": [
        {
          "output_type": "stream",
          "name": "stdout",
          "text": [
            "37\n",
            "[[-3034.06466934  -636.11936009  -754.66185255 ...   -69.55128575\n",
            "    634.07792569   199.03203265]\n",
            " [-3258.5750091  -1115.57366797  -123.18181896 ...    -8.9290899\n",
            "   -470.25793416    92.0017228 ]\n",
            " [-2560.74280812 -1015.28384869   -96.96261658 ...  -136.09898484\n",
            "   -692.54836802  -167.16614524]\n",
            " ...\n",
            " [ -765.14348983 -1081.3823894  -1546.73535921 ...   170.48632488\n",
            "   -182.70214674    -9.38173523]\n",
            " [ -946.29319382 -1011.49713612 -1461.46003308 ...   261.44661577\n",
            "     25.95891186   -70.81877033]\n",
            " [ -629.54963779  -485.43259309 -2132.02447043 ...   153.65000842\n",
            "   -196.85411326   -53.64302409]]\n"
          ]
        }
      ],
      "source": [
        "R1=dimensions(0.8,eigen_values)  #get numbers of dimensions for 80% accuracy\n",
        "print(R1)\n",
        "Ur = U[:, 0 : R1]  #choose only specified dimensions\n",
        "projected_matrix_R1 = np.dot(Z,Ur)  #project training data, with specified dimensions\n",
        "projected_matrix_test_R1 = np.dot(Z_testing,Ur) #project testing data\n",
        "print(projected_matrix_R1)\n"
      ]
    },
    {
      "cell_type": "markdown",
      "metadata": {
        "id": "nbyjk38LA3AR"
      },
      "source": [
        "Alpha 2, 85%"
      ]
    },
    {
      "cell_type": "code",
      "execution_count": null,
      "metadata": {
        "colab": {
          "base_uri": "https://localhost:8080/"
        },
        "id": "0s5iZaE1A6oO",
        "outputId": "81dbf0a1-c6a2-47ab-8e46-2ab5187162e4"
      },
      "outputs": [
        {
          "output_type": "stream",
          "name": "stdout",
          "text": [
            "53\n"
          ]
        }
      ],
      "source": [
        "R2=dimensions(0.85,eigen_values)\n",
        "print(R2)\n",
        "Ur = U[:, 0 : R2]\n",
        "projected_matrix_R2 = np.dot(Z,Ur)\n",
        "projected_matrix_test_R2 = np.dot(Z_testing,Ur)\n"
      ]
    },
    {
      "cell_type": "markdown",
      "metadata": {
        "id": "h_RAlVTWBCSh"
      },
      "source": [
        "Alpha 3, 90%"
      ]
    },
    {
      "cell_type": "code",
      "execution_count": null,
      "metadata": {
        "colab": {
          "base_uri": "https://localhost:8080/"
        },
        "id": "yhbiCDWSBWWe",
        "outputId": "c1dde505-5968-4e08-c0f1-f014d3b85650"
      },
      "outputs": [
        {
          "output_type": "stream",
          "name": "stdout",
          "text": [
            "77\n"
          ]
        }
      ],
      "source": [
        "\n",
        "R3=dimensions(0.9,eigen_values)\n",
        "print(R3)\n",
        "Ur = U[:, 0 : R3]\n",
        "projected_matrix_R3 = np.dot(Z,Ur)\n",
        "projected_matrix_test_R3 = np.dot(Z_testing,Ur)"
      ]
    },
    {
      "cell_type": "markdown",
      "metadata": {
        "id": "dxdDuFsKBsLR"
      },
      "source": [
        "Alpha 4, 95%"
      ]
    },
    {
      "cell_type": "code",
      "execution_count": null,
      "metadata": {
        "colab": {
          "base_uri": "https://localhost:8080/"
        },
        "id": "MrphzuUvBvcN",
        "outputId": "42c8afc0-413b-492b-8eb4-e893d8f5b5e1"
      },
      "outputs": [
        {
          "output_type": "stream",
          "name": "stdout",
          "text": [
            "116\n"
          ]
        }
      ],
      "source": [
        "\n",
        "R4=dimensions(0.95,eigen_values)\n",
        "print(R4)\n",
        "Ur = U[:, 0 : R4]\n",
        "projected_matrix_R4 = np.dot(Z,Ur)\n",
        "projected_matrix_test_R4 = np.dot(Z_testing,Ur)"
      ]
    },
    {
      "cell_type": "markdown",
      "metadata": {
        "id": "ot2cn941dwl3"
      },
      "source": [
        "Alpha 3"
      ]
    },
    {
      "cell_type": "code",
      "execution_count": null,
      "metadata": {
        "colab": {
          "base_uri": "https://localhost:8080/",
          "height": 235
        },
        "id": "RQScCCgxd14A",
        "outputId": "4627b9e3-08da-49de-e340-9ea6203364de"
      },
      "outputs": [
        {
          "output_type": "error",
          "ename": "NameError",
          "evalue": "ignored",
          "traceback": [
            "\u001b[0;31m---------------------------------------------------------------------------\u001b[0m",
            "\u001b[0;31mNameError\u001b[0m                                 Traceback (most recent call last)",
            "\u001b[0;32m<ipython-input-21-c46499425b42>\u001b[0m in \u001b[0;36m<module>\u001b[0;34m\u001b[0m\n\u001b[0;32m----> 1\u001b[0;31m \u001b[0mR5\u001b[0m\u001b[0;34m=\u001b[0m\u001b[0mdimensions\u001b[0m\u001b[0;34m(\u001b[0m\u001b[0;36m0.9\u001b[0m\u001b[0;34m,\u001b[0m\u001b[0meigen_values_new\u001b[0m\u001b[0;34m)\u001b[0m\u001b[0;34m\u001b[0m\u001b[0;34m\u001b[0m\u001b[0m\n\u001b[0m\u001b[1;32m      2\u001b[0m \u001b[0mprint\u001b[0m\u001b[0;34m(\u001b[0m\u001b[0mR5\u001b[0m\u001b[0;34m)\u001b[0m\u001b[0;34m\u001b[0m\u001b[0;34m\u001b[0m\u001b[0m\n\u001b[1;32m      3\u001b[0m \u001b[0mUr_new\u001b[0m \u001b[0;34m=\u001b[0m \u001b[0mU_new\u001b[0m\u001b[0;34m[\u001b[0m\u001b[0;34m:\u001b[0m\u001b[0;34m,\u001b[0m \u001b[0;36m0\u001b[0m \u001b[0;34m:\u001b[0m \u001b[0mR5\u001b[0m\u001b[0;34m]\u001b[0m\u001b[0;34m\u001b[0m\u001b[0;34m\u001b[0m\u001b[0m\n\u001b[1;32m      4\u001b[0m \u001b[0mprojected_matrix_R5\u001b[0m \u001b[0;34m=\u001b[0m \u001b[0mnp\u001b[0m\u001b[0;34m.\u001b[0m\u001b[0mdot\u001b[0m\u001b[0;34m(\u001b[0m\u001b[0mZ_new\u001b[0m\u001b[0;34m,\u001b[0m\u001b[0mUr_new\u001b[0m\u001b[0;34m)\u001b[0m\u001b[0;34m\u001b[0m\u001b[0;34m\u001b[0m\u001b[0m\n\u001b[1;32m      5\u001b[0m \u001b[0mprojected_matrix_test_R5\u001b[0m \u001b[0;34m=\u001b[0m \u001b[0mnp\u001b[0m\u001b[0;34m.\u001b[0m\u001b[0mdot\u001b[0m\u001b[0;34m(\u001b[0m\u001b[0mZ_testing_new\u001b[0m\u001b[0;34m,\u001b[0m\u001b[0mUr_new\u001b[0m\u001b[0;34m)\u001b[0m\u001b[0;34m\u001b[0m\u001b[0;34m\u001b[0m\u001b[0m\n",
            "\u001b[0;31mNameError\u001b[0m: name 'eigen_values_new' is not defined"
          ]
        }
      ],
      "source": [
        "R5=dimensions(0.9,eigen_values_new)\n",
        "print(R5)\n",
        "Ur_new = U_new[:, 0 : R5]\n",
        "projected_matrix_R5 = np.dot(Z_new,Ur_new)\n",
        "projected_matrix_test_R5 = np.dot(Z_testing_new,Ur_new)"
      ]
    },
    {
      "cell_type": "markdown",
      "metadata": {
        "id": "2qMDurCZHptx"
      },
      "source": [
        "F-NN PCA , First NN is KNN with k =1"
      ]
    },
    {
      "cell_type": "code",
      "execution_count": null,
      "metadata": {
        "colab": {
          "base_uri": "https://localhost:8080/",
          "height": 1000
        },
        "id": "MDKldjHgCBJq",
        "outputId": "3ef7f526-61cf-4683-b7a2-6311d56e9377"
      },
      "outputs": [
        {
          "output_type": "stream",
          "name": "stdout",
          "text": [
            "This face is incorrecctly classified to a wrong class\n",
            "training\n",
            "[[5.]]\n"
          ]
        },
        {
          "output_type": "display_data",
          "data": {
            "text/plain": [
              "<PIL.Image.Image image mode=L size=92x112 at 0x7F2E20C8DBE0>"
            ],
            "image/png": "[encoded data removed]"
          },
          "metadata": {}
        },
        {
          "output_type": "stream",
          "name": "stdout",
          "text": [
            "testing\n",
            "[40.]\n"
          ]
        },
        {
          "output_type": "display_data",
          "data": {
            "text/plain": [
              "<PIL.Image.Image image mode=L size=92x112 at 0x7F2E20C8DBE0>"
            ],
            "image/png": "[encoded data removed]"
          },
          "metadata": {}
        },
        {
          "output_type": "stream",
          "name": "stdout",
          "text": [
            "-------------------------------------\n",
            "This face is correcctly classified to its class\n",
            "training\n",
            "[[24.]]\n"
          ]
        },
        {
          "output_type": "display_data",
          "data": {
            "text/plain": [
              "<PIL.Image.Image image mode=L size=92x112 at 0x7F2E20C8DCD0>"
            ],
            "image/png": "[encoded data removed]"
          },
          "metadata": {}
        },
        {
          "output_type": "stream",
          "name": "stdout",
          "text": [
            "testing\n",
            "[24.]\n"
          ]
        },
        {
          "output_type": "display_data",
          "data": {
            "text/plain": [
              "<PIL.Image.Image image mode=L size=92x112 at 0x7F2E20C8DCD0>"
            ],
            "image/png": "[encoded data removed]"
          },
          "metadata": {}
        },
        {
          "output_type": "stream",
          "name": "stdout",
          "text": [
            "-------------------------------------\n",
            "This face is correcctly classified to its class\n",
            "training\n",
            "[[16.]]\n"
          ]
        },
        {
          "output_type": "display_data",
          "data": {
            "text/plain": [
              "<PIL.Image.Image image mode=L size=92x112 at 0x7F2E20C8DBE0>"
            ],
            "image/png": "[encoded data removed]"
          },
          "metadata": {}
        },
        {
          "output_type": "stream",
          "name": "stdout",
          "text": [
            "testing\n",
            "[16.]\n"
          ]
        },
        {
          "output_type": "display_data",
          "data": {
            "text/plain": [
              "<PIL.Image.Image image mode=L size=92x112 at 0x7F2E20C8DBE0>"
            ],
            "image/png": "[encoded data removed]"
          },
          "metadata": {}
        },
        {
          "output_type": "stream",
          "name": "stdout",
          "text": [
            "-------------------------------------\n",
            "alpha = 0.8 accuracy:93.0%\n",
            "This face is incorrecctly classified to a wrong class\n",
            "training\n",
            "[[38.]]\n"
          ]
        },
        {
          "output_type": "display_data",
          "data": {
            "text/plain": [
              "<PIL.Image.Image image mode=L size=92x112 at 0x7F2E20C8DBE0>"
            ],
            "image/png": "[encoded data removed]"
          },
          "metadata": {}
        },
        {
          "output_type": "stream",
          "name": "stdout",
          "text": [
            "testing\n",
            "[10.]\n"
          ]
        },
        {
          "output_type": "display_data",
          "data": {
            "text/plain": [
              "<PIL.Image.Image image mode=L size=92x112 at 0x7F2E20C8DBE0>"
            ],
            "image/png": "[encoded data removed]"
          },
          "metadata": {}
        },
        {
          "output_type": "stream",
          "name": "stdout",
          "text": [
            "-------------------------------------\n",
            "This face is correcctly classified to its class\n",
            "training\n",
            "[[24.]]\n"
          ]
        },
        {
          "output_type": "display_data",
          "data": {
            "text/plain": [
              "<PIL.Image.Image image mode=L size=92x112 at 0x7F2D91540D60>"
            ],
            "image/png": "[encoded data removed]"
          },
          "metadata": {}
        },
        {
          "output_type": "stream",
          "name": "stdout",
          "text": [
            "testing\n",
            "[24.]\n"
          ]
        },
        {
          "output_type": "display_data",
          "data": {
            "text/plain": [
              "<PIL.Image.Image image mode=L size=92x112 at 0x7F2D91540F10>"
            ],
            "image/png": "[encoded data removed]"
          },
          "metadata": {}
        },
        {
          "output_type": "stream",
          "name": "stdout",
          "text": [
            "-------------------------------------\n",
            "This face is correcctly classified to its class\n",
            "training\n",
            "[[26.]]\n"
          ]
        },
        {
          "output_type": "display_data",
          "data": {
            "text/plain": [
              "<PIL.Image.Image image mode=L size=92x112 at 0x7F2D915400A0>"
            ],
            "image/png": "[encoded data removed]"
          },
          "metadata": {}
        },
        {
          "output_type": "stream",
          "name": "stdout",
          "text": [
            "testing\n",
            "[26.]\n"
          ]
        },
        {
          "output_type": "display_data",
          "data": {
            "text/plain": [
              "<PIL.Image.Image image mode=L size=92x112 at 0x7F2D915405B0>"
            ],
            "image/png": "[encoded data removed]"
          },
          "metadata": {}
        },
        {
          "output_type": "stream",
          "name": "stdout",
          "text": [
            "-------------------------------------\n",
            "alpha = 0.85 accuracy:93.5%\n",
            "This face is correcctly classified to its class\n",
            "training\n",
            "[[6.]]\n"
          ]
        },
        {
          "output_type": "display_data",
          "data": {
            "text/plain": [
              "<PIL.Image.Image image mode=L size=92x112 at 0x7F2D915400A0>"
            ],
            "image/png": "[encoded data removed]"
          },
          "metadata": {}
        },
        {
          "output_type": "stream",
          "name": "stdout",
          "text": [
            "testing\n",
            "[6.]\n"
          ]
        },
        {
          "output_type": "display_data",
          "data": {
            "text/plain": [
              "<PIL.Image.Image image mode=L size=92x112 at 0x7F2D9216D4F0>"
            ],
            "image/png": "[encoded data removed]"
          },
          "metadata": {}
        },
        {
          "output_type": "stream",
          "name": "stdout",
          "text": [
            "-------------------------------------\n",
            "This face is correcctly classified to its class\n",
            "training\n",
            "[[7.]]\n"
          ]
        },
        {
          "output_type": "display_data",
          "data": {
            "text/plain": [
              "<PIL.Image.Image image mode=L size=92x112 at 0x7F2D9216DC10>"
            ],
            "image/png": "[encoded data removed]"
          },
          "metadata": {}
        },
        {
          "output_type": "stream",
          "name": "stdout",
          "text": [
            "testing\n",
            "[7.]\n"
          ]
        },
        {
          "output_type": "display_data",
          "data": {
            "text/plain": [
              "<PIL.Image.Image image mode=L size=92x112 at 0x7F2D9216DBB0>"
            ],
            "image/png": "[encoded data removed]"
          },
          "metadata": {}
        },
        {
          "output_type": "stream",
          "name": "stdout",
          "text": [
            "-------------------------------------\n",
            "This face is correcctly classified to its class\n",
            "training\n",
            "[[29.]]\n"
          ]
        },
        {
          "output_type": "display_data",
          "data": {
            "text/plain": [
              "<PIL.Image.Image image mode=L size=92x112 at 0x7F2D9216D190>"
            ],
            "image/png": "[encoded data removed]"
          },
          "metadata": {}
        },
        {
          "output_type": "stream",
          "name": "stdout",
          "text": [
            "testing\n",
            "[29.]\n"
          ]
        },
        {
          "output_type": "display_data",
          "data": {
            "text/plain": [
              "<PIL.Image.Image image mode=L size=92x112 at 0x7F2D9216D8B0>"
            ],
            "image/png": "[encoded data removed]"
          },
          "metadata": {}
        },
        {
          "output_type": "stream",
          "name": "stdout",
          "text": [
            "-------------------------------------\n",
            "alpha = 0.9 accuracy:94.0%\n",
            "This face is correcctly classified to its class\n",
            "training\n",
            "[[36.]]\n"
          ]
        },
        {
          "output_type": "display_data",
          "data": {
            "text/plain": [
              "<PIL.Image.Image image mode=L size=92x112 at 0x7F2D9216D4F0>"
            ],
            "image/png": "[encoded data removed]"
          },
          "metadata": {}
        },
        {
          "output_type": "stream",
          "name": "stdout",
          "text": [
            "testing\n",
            "[36.]\n"
          ]
        },
        {
          "output_type": "display_data",
          "data": {
            "text/plain": [
              "<PIL.Image.Image image mode=L size=92x112 at 0x7F2D9216D580>"
            ],
            "image/png": "[encoded data removed]"
          },
          "metadata": {}
        },
        {
          "output_type": "stream",
          "name": "stdout",
          "text": [
            "-------------------------------------\n",
            "This face is correcctly classified to its class\n",
            "training\n",
            "[[7.]]\n"
          ]
        },
        {
          "output_type": "display_data",
          "data": {
            "text/plain": [
              "<PIL.Image.Image image mode=L size=92x112 at 0x7F2D91540190>"
            ],
            "image/png": "[encoded data removed]"
          },
          "metadata": {}
        },
        {
          "output_type": "stream",
          "name": "stdout",
          "text": [
            "testing\n",
            "[7.]\n"
          ]
        },
        {
          "output_type": "display_data",
          "data": {
            "text/plain": [
              "<PIL.Image.Image image mode=L size=92x112 at 0x7F2D91540E50>"
            ],
            "image/png": "[encoded data removed]"
          },
          "metadata": {}
        },
        {
          "output_type": "stream",
          "name": "stdout",
          "text": [
            "-------------------------------------\n",
            "This face is correcctly classified to its class\n",
            "training\n",
            "[[30.]]\n"
          ]
        },
        {
          "output_type": "display_data",
          "data": {
            "text/plain": [
              "<PIL.Image.Image image mode=L size=92x112 at 0x7F2D91531160>"
            ],
            "image/png": "[encoded data removed]"
          },
          "metadata": {}
        },
        {
          "output_type": "stream",
          "name": "stdout",
          "text": [
            "testing\n",
            "[30.]\n"
          ]
        },
        {
          "output_type": "display_data",
          "data": {
            "text/plain": [
              "<PIL.Image.Image image mode=L size=92x112 at 0x7F2E20C8DBE0>"
            ],
            "image/png": "[encoded data removed]"
          },
          "metadata": {}
        },
        {
          "output_type": "stream",
          "name": "stdout",
          "text": [
            "-------------------------------------\n",
            "alpha = 0.95 accuracy:93.5%\n"
          ]
        }
      ],
      "source": [
        "accuracy_PCA_R1 = KNN(1,projected_matrix_test_R1,projected_matrix_R1,training_labels,testing_labels) #First NN is KNN with k =1\n",
        "print(f'alpha = 0.8 accuracy:{accuracy_PCA_R1}%')\n",
        "\n",
        "accuracy_PCA_R2 = KNN(1,projected_matrix_test_R2,projected_matrix_R2,training_labels,testing_labels) #First NN is KNN with k =1\n",
        "print(f'alpha = 0.85 accuracy:{accuracy_PCA_R2}%')\n",
        "\n",
        "accuracy_PCA_R3 = KNN(1,projected_matrix_test_R3,projected_matrix_R3,training_labels,testing_labels) #First NN is KNN with k =1\n",
        "print(f'alpha = 0.9 accuracy:{accuracy_PCA_R3}%')\n",
        "\n",
        "accuracy_PCA_R4 = KNN(1,projected_matrix_test_R4,projected_matrix_R4,training_labels,testing_labels) #First NN is KNN with k =1\n",
        "print(f'alpha = 0.95 accuracy:{accuracy_PCA_R4}%')\n",
        "\n",
        "accuracy_PCA_R5 = KNN(1,projected_matrix_test_R5,projected_matrix_R5,training_labels_new,testing_labels_new) #First NN is KNN with k =1\n",
        "print(f'alpha = 0.9 accuracy:{accuracy_PCA_R5}%')"
      ]
    },
    {
      "cell_type": "markdown",
      "metadata": {
        "id": "veJKBRYLduTR"
      },
      "source": [
        "Alpha vs Accuracy"
      ]
    },
    {
      "cell_type": "code",
      "execution_count": null,
      "metadata": {
        "colab": {
          "base_uri": "https://localhost:8080/",
          "height": 295
        },
        "id": "PG55lMuLdy4h",
        "outputId": "884a1fb2-79ec-46b1-a117-a79254173057"
      },
      "outputs": [
        {
          "output_type": "display_data",
          "data": {
            "text/plain": [
              "<Figure size 432x288 with 1 Axes>"
            ],
            "image/png": "[encoded data removed]"
          },
          "metadata": {
            "needs_background": "light"
          }
        }
      ],
      "source": [
        "alphas = [0.8, 0.85, 0.9, 0.95]\n",
        "accuracy_PCA = [accuracy_PCA_R1, accuracy_PCA_R2, accuracy_PCA_R3, accuracy_PCA_R4]\n",
        "plt.plot(alphas,accuracy_PCA,'-o')\n",
        "plt.xlabel('alpha value')\n",
        "plt.ylabel('Accuracy')\n",
        "plt.title('PCA')\n",
        "plt.show()"
      ]
    },
    {
      "cell_type": "markdown",
      "metadata": {
        "id": "2zUqWUtSkgy3"
      },
      "source": [
        "Classification using LDA"
      ]
    },
    {
      "cell_type": "code",
      "execution_count": null,
      "metadata": {
        "colab": {
          "base_uri": "https://localhost:8080/"
        },
        "id": "QM5_35qwOKBW",
        "outputId": "329abc12-24f2-4d26-c63a-f68ae3cc5c79"
      },
      "outputs": [
        {
          "output_type": "stream",
          "name": "stdout",
          "text": [
            "(10304, 10304)\n",
            "520.5594136714935\n"
          ]
        }
      ],
      "source": [
        "eigen_vector_no = 39\n",
        "start_LDA = time.time()\n",
        "U_lda = LDA(training_set,training_labels,subjects_no,width,height,eigen_vector_no)\n",
        "end_LDA = time.time()\n",
        "runtime_LDA = end_LDA - start_LDA\n",
        "print(runtime_LDA)"
      ]
    },
    {
      "cell_type": "markdown",
      "metadata": {
        "id": "-GNeMSr6fQFb"
      },
      "source": [
        "LDA new"
      ]
    },
    {
      "cell_type": "code",
      "execution_count": null,
      "metadata": {
        "colab": {
          "base_uri": "https://localhost:8080/"
        },
        "id": "9fJVENaJfUU5",
        "outputId": "5fae2fe0-053b-4ccc-8a35-405785dbf58a"
      },
      "outputs": [
        {
          "output_type": "stream",
          "name": "stdout",
          "text": [
            "(10304, 10304)\n"
          ]
        }
      ],
      "source": [
        "eigen_vector_no = 39\n",
        "U_lda_new = LDA(training_set_new,training_labels_new,subjects_no,width,height,eigen_vector_no)"
      ]
    },
    {
      "cell_type": "markdown",
      "metadata": {
        "id": "O0hVztA0kGk5"
      },
      "source": [
        "Pojection"
      ]
    },
    {
      "cell_type": "code",
      "execution_count": null,
      "metadata": {
        "id": "IdhmicKSkFqr"
      },
      "outputs": [],
      "source": [
        "projected_matrix_lda = np.dot(Z,U_lda)\n",
        "projected_matrix_test_lda = np.dot(Z_testing,U_lda)"
      ]
    },
    {
      "cell_type": "markdown",
      "metadata": {
        "id": "RLsP5EJ4f2zE"
      },
      "source": [
        "Projection new"
      ]
    },
    {
      "cell_type": "code",
      "execution_count": null,
      "metadata": {
        "id": "RjDyndQYf4xT"
      },
      "outputs": [],
      "source": [
        "projected_matrix_lda_new = np.dot(Z_new,U_lda_new)\n",
        "projected_matrix_test_lda_new = np.dot(Z_testing_new,U_lda_new)"
      ]
    },
    {
      "cell_type": "markdown",
      "metadata": {
        "id": "YnX6ms-uhLsy"
      },
      "source": [
        "First-NN LDA"
      ]
    },
    {
      "cell_type": "code",
      "execution_count": null,
      "metadata": {
        "colab": {
          "base_uri": "https://localhost:8080/"
        },
        "id": "x6JHm-9jhOfz",
        "outputId": "1ea84361-0633-4f45-c633-9331c463ff6b"
      },
      "outputs": [
        {
          "output_type": "stream",
          "name": "stdout",
          "text": [
            "Accuracy LDA : 95.5% \n"
          ]
        }
      ],
      "source": [
        "accuracy_LDA = KNN(1,projected_matrix_test_lda,projected_matrix_lda,training_labels,testing_labels) # First-NN is KNN with k =1\n",
        "print(f'Accuracy LDA : {accuracy_LDA}% ' )"
      ]
    },
    {
      "cell_type": "markdown",
      "metadata": {
        "id": "kvwdSUznexrq"
      },
      "source": [
        "First-NN LDA New"
      ]
    },
    {
      "cell_type": "code",
      "execution_count": null,
      "metadata": {
        "colab": {
          "base_uri": "https://localhost:8080/"
        },
        "id": "8Ih1pTKwe0yz",
        "outputId": "ee50cd98-c2b6-429f-f597-ff4bd77365a0"
      },
      "outputs": [
        {
          "output_type": "stream",
          "name": "stdout",
          "text": [
            "Accuracy LDA New : 95.0% \n"
          ]
        }
      ],
      "source": [
        "accuracy_LDA_new = KNN(1,projected_matrix_test_lda_new,projected_matrix_lda_new,training_labels_new,testing_labels_new) # First-NN is KNN with k =1\n",
        "print(f'Accuracy LDA New : {accuracy_LDA_new}% ' )"
      ]
    },
    {
      "cell_type": "markdown",
      "metadata": {
        "id": "Vuc0BOt-Raae"
      },
      "source": [
        "K vs accuracy PCA , different alphas , and LDA"
      ]
    },
    {
      "cell_type": "code",
      "execution_count": null,
      "metadata": {
        "colab": {
          "base_uri": "https://localhost:8080/",
          "height": 573
        },
        "id": "7UobciaNRfsl",
        "outputId": "a970f5cd-05ad-405d-a1a4-f0df802f3614"
      },
      "outputs": [
        {
          "output_type": "display_data",
          "data": {
            "text/plain": [
              "<Figure size 432x288 with 4 Axes>"
            ],
            "image/png": "[encoded data removed]"
          },
          "metadata": {
            "needs_background": "light"
          }
        },
        {
          "output_type": "display_data",
          "data": {
            "text/plain": [
              "<Figure size 432x288 with 1 Axes>"
            ],
            "image/png": "[encoded data removed]"
          },
          "metadata": {
            "needs_background": "light"
          }
        }
      ],
      "source": [
        "ks = np.arange(1,8,2)\n",
        "accuracy_alpha1 = []\n",
        "accuracy_alpha2 = []\n",
        "accuracy_alpha3 = []\n",
        "accuracy_alpha4 = []\n",
        "accuracy_LDA = []\n",
        "for k in ks:\n",
        "        \n",
        "        accuracy_alpha1.append(KNN(k,projected_matrix_test_R1,projected_matrix_R1,training_labels,testing_labels))\n",
        "        accuracy_alpha2.append(KNN(k,projected_matrix_test_R2,projected_matrix_R2,training_labels,testing_labels))\n",
        "        accuracy_alpha3.append(KNN(k,projected_matrix_test_R3,projected_matrix_R3,training_labels,testing_labels))\n",
        "        accuracy_alpha4.append(KNN(k,projected_matrix_test_R4,projected_matrix_R4,training_labels,testing_labels))\n",
        "        accuracy_LDA.append(KNN(k,projected_matrix_test_lda,projected_matrix_lda,training_labels,testing_labels))\n",
        "plt.subplot(2, 2, 1)\n",
        "plt.subplots_adjust(wspace = 0.5, hspace = 0.6)\n",
        "plt.plot(ks,accuracy_alpha1,'-o')\n",
        "plt.xlabel('K value')\n",
        "plt.ylabel('Accuracy')\n",
        "plt.title('alpha = 0.8 PCA')\n",
        "plt.subplot(2, 2, 2)\n",
        "plt.plot(ks,accuracy_alpha2,'-o')\n",
        "plt.xlabel('K value')\n",
        "plt.ylabel('Accuracy')\n",
        "plt.title('alpha = 0.85 PCA')\n",
        "plt.subplot(2, 2, 3)\n",
        "plt.plot(ks,accuracy_alpha3,'-o')\n",
        "plt.xlabel('K value')\n",
        "plt.ylabel('Accuracy')\n",
        "plt.title('alpha = 0.9 PCA')\n",
        "plt.subplot(2, 2, 4)\n",
        "plt.plot(ks,accuracy_alpha4,'-o')\n",
        "plt.xlabel('K value')\n",
        "plt.ylabel('Accuracy')\n",
        "plt.title('alpha = 0.95 PCA')\n",
        "plt.show()\n",
        "plt.plot(ks,accuracy_LDA,'-o')\n",
        "plt.xlabel('K value')\n",
        "plt.ylabel('Accuracy')\n",
        "plt.title('LDA')\n",
        "plt.show()\n"
      ]
    },
    {
      "cell_type": "markdown",
      "metadata": {
        "id": "dnHKljixjv3R"
      },
      "source": [
        "Comparing PCA of different alphas vs LDA"
      ]
    },
    {
      "cell_type": "code",
      "execution_count": null,
      "metadata": {
        "id": "U8xtcppmj2XI",
        "colab": {
          "base_uri": "https://localhost:8080/",
          "height": 506
        },
        "outputId": "2f71bc8c-66ad-43e0-e36b-d49eeddabe65"
      },
      "outputs": [
        {
          "output_type": "display_data",
          "data": {
            "text/plain": [
              "<Figure size 864x576 with 1 Axes>"
            ],
            "image/png": "[encoded data removed]"
          },
          "metadata": {
            "needs_background": "light"
          }
        }
      ],
      "source": [
        "barWidth = 0.1\n",
        "fig = plt.subplots(figsize =(12, 8))\n",
        "# Set position of bar on X axis\n",
        "br1 = np.arange(len(ks ))\n",
        "br2 = [x + barWidth for x in br1]\n",
        "br3 = [x + barWidth for x in br2]\n",
        "br4 = [x + barWidth for x in br3]\n",
        "br5 = [x + barWidth for x in br4]\n",
        " \n",
        "# Make the plot\n",
        "plt.bar(br1, accuracy_alpha1, color ='r', width = barWidth,\n",
        "        edgecolor ='grey', label ='accuracy_alpha1')\n",
        "plt.bar(br2, accuracy_alpha2, color ='g', width = barWidth,\n",
        "        edgecolor ='grey', label ='accuracy_alpha2')\n",
        "plt.bar(br3, accuracy_alpha3, color ='b', width = barWidth,\n",
        "        edgecolor ='grey', label ='accuracy_alpha3')\n",
        "plt.bar(br4, accuracy_alpha4, color ='k', width = barWidth,\n",
        "        edgecolor ='grey', label ='accuracy_alpha4')\n",
        "plt.bar(br5, accuracy_LDA, color ='m', width = barWidth,\n",
        "        edgecolor ='grey', label ='accuracy_LDA')\n",
        " \n",
        "# Adding Xticks\n",
        "plt.xlabel('k', fontweight ='bold', fontsize = 15)\n",
        "plt.ylabel('Accuracy', fontweight ='bold', fontsize = 15)\n",
        "plt.xticks([r + barWidth for r in range(len(ks))],\n",
        "        ['1', '3', '5', '7'])\n",
        "plt.ylim(70, 100)\n",
        "plt.legend()\n",
        "plt.show()\n"
      ]
    },
    {
      "cell_type": "markdown",
      "metadata": {
        "id": "o42qMc-eW8Ir"
      },
      "source": [
        "Comparing PCA and LDA 50-50 split with 70-30 split"
      ]
    },
    {
      "cell_type": "code",
      "execution_count": null,
      "metadata": {
        "id": "V97fD0mRbIRa",
        "colab": {
          "base_uri": "https://localhost:8080/",
          "height": 506
        },
        "outputId": "a958a575-ed2a-43fc-e27d-5047a0a909a5"
      },
      "outputs": [
        {
          "output_type": "display_data",
          "data": {
            "text/plain": [
              "<Figure size 864x576 with 1 Axes>"
            ],
            "image/png": "[encoded data removed]"
          },
          "metadata": {
            "needs_background": "light"
          }
        }
      ],
      "source": [
        "barWidth = 0.1\n",
        "fig = plt.subplots(figsize =(12, 8))\n",
        "# Set position of bar on X axis\n",
        "method=['PCA','LDA']\n",
        "br1 = np.arange(len(method ))\n",
        "br2 = [x + barWidth for x in br1]\n",
        "br3 = [x + barWidth for x in br2]\n",
        "br4 = [x + barWidth for x in br3]\n",
        "accuracies_50_50 = [accuracy_PCA_R3,accuracy_LDA[0]]\n",
        "accuracies_70_30 = [accuracy_PCA_R5,accuracy_LDA_new]\n",
        "# Make the plot\n",
        "plt.bar(br1, accuracies_50_50, color ='r', width = barWidth,\n",
        "        edgecolor ='grey', label ='accuracy_50-50')\n",
        "plt.bar(br2, accuracies_70_30, color ='b', width = barWidth,\n",
        "        edgecolor ='grey', label ='accuracy_70-30')\n",
        "\n",
        "plt.xlabel('Method', fontweight ='bold', fontsize = 15)\n",
        "plt.ylabel('Accuracy', fontweight ='bold', fontsize = 15)\n",
        "plt.xticks([r + barWidth for r in range(len(method))],\n",
        "        ['PCA', 'LDA'])\n",
        "plt.legend()\n",
        "plt.ylim(80, 100)\n",
        "plt.show()"
      ]
    },
    {
      "cell_type": "markdown",
      "metadata": {
        "id": "PY5SZxjZT0F6"
      },
      "source": [
        "Compare Faces Vs Non-faces Images"
      ]
    },
    {
      "cell_type": "markdown",
      "metadata": {
        "id": "Bj-T__7BUcsx"
      },
      "source": [
        "Non-faces Adjustment"
      ]
    },
    {
      "cell_type": "code",
      "execution_count": null,
      "metadata": {
        "colab": {
          "base_uri": "https://localhost:8080/"
        },
        "id": "4Mhr4U8dUubP",
        "outputId": "36c58604-9e95-4f23-dfa0-cdeff1b2b3f4"
      },
      "outputs": [
        {
          "output_type": "stream",
          "name": "stdout",
          "text": [
            "(50000, 32, 32, 3)\n"
          ]
        }
      ],
      "source": [
        "# Load the CIFAR-10 dataset\n",
        "(train_nf, train_labels_nf), (test_nf, test_labels_nf) = cifar10.load_data()\n",
        "print(train_nf.shape)\n",
        "random_indices_total = np.random.choice(test_nf.shape[0], 300, replace=False) \n",
        "train_nf = train_nf[random_indices_total]\n",
        "test_nf = test_nf[random_indices_total]"
      ]
    },
    {
      "cell_type": "markdown",
      "metadata": {
        "id": "x4VWvyafizRI"
      },
      "source": [
        "Selecting a sample of 300 non-faces for training-testing datasets"
      ]
    },
    {
      "cell_type": "code",
      "execution_count": null,
      "metadata": {
        "id": "z8EMRpWpjSso",
        "colab": {
          "base_uri": "https://localhost:8080/"
        },
        "outputId": "d3058824-3808-4813-8ebd-d6f0a8e7eee1"
      },
      "outputs": [
        {
          "output_type": "stream",
          "name": "stdout",
          "text": [
            "[[132 132 132 ... 128 128 128]\n",
            " [158 158 157 ... 160 160 160]\n",
            " [144 144 145 ...   8  10  11]\n",
            " ...\n",
            " [227 227 226 ... 220 223 224]\n",
            " [138 134 122 ... 129 135 137]\n",
            " [154 154 154 ...  92  90  89]]\n",
            "(300, 10304)\n"
          ]
        }
      ],
      "source": [
        "random_indices_300 = np.random.choice(test_nf.shape[0], 300, replace=False) \n",
        "train_nf_300 = train_nf[random_indices_300]\n",
        "test_nf_300 = test_nf[random_indices_300]\n",
        "train_non_faces_300,test_non_faces_300 = Prepare_non_faces(train_nf_300,test_nf_300)\n",
        "print(train_non_faces_300)\n",
        "print(test_non_faces_300.shape)"
      ]
    },
    {
      "cell_type": "code",
      "execution_count": null,
      "metadata": {
        "id": "CpBjpGXwjSsp",
        "colab": {
          "base_uri": "https://localhost:8080/"
        },
        "outputId": "216fb158-6e6b-48b6-fe3d-fea0c93ae1a1"
      },
      "outputs": [
        {
          "output_type": "stream",
          "name": "stdout",
          "text": [
            "(500, 10304)\n",
            "(500, 10304)\n"
          ]
        }
      ],
      "source": [
        "faces_nf_train_300 = np.concatenate((train_non_faces_300,training_set),axis=0)\n",
        "faces_nf_test_300 = np.concatenate((test_non_faces_300,testing_set),axis=0)\n",
        "zeros_300 = np.zeros(300)\n",
        "ones_300 =  np.ones(200)\n",
        "train_labels_f_nf_300 = np.concatenate((zeros_300,ones_300),axis=0)\n",
        "test_labels_f_nf_300 = np.concatenate((zeros_300,ones_300),axis=0)\n",
        "print(faces_nf_train_300.shape)\n",
        "print(faces_nf_test_300.shape)"
      ]
    },
    {
      "cell_type": "code",
      "execution_count": null,
      "metadata": {
        "id": "7IysVn3NjSsq",
        "colab": {
          "base_uri": "https://localhost:8080/"
        },
        "outputId": "e3b3742d-21c7-4794-806d-a650b21d4c75"
      },
      "outputs": [
        {
          "output_type": "stream",
          "name": "stdout",
          "text": [
            "(10304, 10304)\n",
            "(10304, 10304)\n",
            "True\n"
          ]
        }
      ],
      "source": [
        "eigen_faces_vector_300 ,Z_faces_300 , eigen_faces_values_300 = PCA(faces_nf_train_300)"
      ]
    },
    {
      "cell_type": "code",
      "execution_count": null,
      "metadata": {
        "id": "4ylWwOGkjSsq"
      },
      "outputs": [],
      "source": [
        "mean_testing_fnf_300 = faces_nf_test_300.mean(axis=0)\n",
        "Z_faces_testing_300 = faces_nf_test_300 - mean_testing_fnf_300"
      ]
    },
    {
      "cell_type": "code",
      "execution_count": null,
      "metadata": {
        "id": "IhhB25hojSsr",
        "colab": {
          "base_uri": "https://localhost:8080/"
        },
        "outputId": "5c9cab58-80a4-4332-ba75-f96b802aeeb8"
      },
      "outputs": [
        {
          "output_type": "stream",
          "name": "stdout",
          "text": [
            "65\n",
            "[[-1.69562440e+03 -1.19924039e+03 -3.21435034e+03 ...  4.39352577e+01\n",
            "  -5.43110830e+01  8.40036042e+01]\n",
            " [ 2.67749484e+03  1.62917120e+03  3.35393540e+03 ... -3.44585152e+00\n",
            "  -8.61669004e+01  2.51816754e+01]\n",
            " [-6.24656523e+03  5.94994327e+03  5.99103719e+02 ...  1.33078614e+02\n",
            "  -1.44857231e+02  1.17418527e+02]\n",
            " ...\n",
            " [-2.35829374e+02 -8.84643912e+02  1.30416529e+03 ... -2.12900034e+02\n",
            "   8.88006792e+01  1.43468254e+02]\n",
            " [-2.31102289e+02 -8.37530225e+02  1.55763840e+03 ... -3.20222326e+02\n",
            "   7.83074291e+01  1.87398743e+02]\n",
            " [-2.31463480e+02 -5.43269799e+02  1.20832172e+03 ...  2.16359741e+01\n",
            "  -1.08712355e+02 -1.41817586e+02]]\n"
          ]
        }
      ],
      "source": [
        "fnf_300=dimensions(0.9,eigen_faces_values_300)  #get numbers of dimensions for 90% accuracy\n",
        "print(fnf_300)\n",
        "Ur_faces_300 = eigen_faces_vector_300[:, 0 : fnf_300]  #choose only specified dimensions\n",
        "projected_matrix_fnf_300 = np.dot(Z_faces_300,Ur_faces_300)  #project training data, with specified dimensions\n",
        "projected_matrix_test_fnf_300 = np.dot(Z_faces_testing_300,Ur_faces_300) #project testing data\n",
        "print(projected_matrix_fnf_300)"
      ]
    },
    {
      "cell_type": "code",
      "execution_count": null,
      "metadata": {
        "id": "G6r8xn7wjSsr",
        "colab": {
          "base_uri": "https://localhost:8080/",
          "height": 1000
        },
        "outputId": "afa87aa7-e6e4-4b74-b59d-53a9583e3a86"
      },
      "outputs": [
        {
          "output_type": "display_data",
          "data": {
            "text/plain": [
              "<Figure size 432x288 with 2 Axes>"
            ],
            "image/png": "[encoded data removed]"
          },
          "metadata": {
            "needs_background": "light"
          }
        },
        {
          "output_type": "stream",
          "name": "stdout",
          "text": [
            "correctly classified as faces\n",
            "training\n",
            "[[1.]]\n"
          ]
        },
        {
          "output_type": "display_data",
          "data": {
            "text/plain": [
              "<PIL.Image.Image image mode=L size=92x112 at 0x7F7D1953B580>"
            ],
            "image/png": "[encoded data removed]"
          },
          "metadata": {}
        },
        {
          "output_type": "stream",
          "name": "stdout",
          "text": [
            "testing\n",
            "[1.]\n"
          ]
        },
        {
          "output_type": "display_data",
          "data": {
            "text/plain": [
              "<PIL.Image.Image image mode=L size=92x112 at 0x7F7D26A957F0>"
            ],
            "image/png": "[encoded data removed]"
          },
          "metadata": {}
        },
        {
          "output_type": "stream",
          "name": "stdout",
          "text": [
            "-------------------------------------\n",
            "correctly classified as non-faces\n",
            "training\n",
            "[[1.]]\n"
          ]
        },
        {
          "output_type": "display_data",
          "data": {
            "text/plain": [
              "<PIL.Image.Image image mode=L size=92x112 at 0x7F7DB1577A30>"
            ],
            "image/png": "[encoded data removed]"
          },
          "metadata": {}
        },
        {
          "output_type": "stream",
          "name": "stdout",
          "text": [
            "testing\n",
            "[1.]\n"
          ]
        },
        {
          "output_type": "display_data",
          "data": {
            "text/plain": [
              "<PIL.Image.Image image mode=L size=92x112 at 0x7F7D26A957F0>"
            ],
            "image/png": "[encoded data removed]"
          },
          "metadata": {}
        },
        {
          "output_type": "stream",
          "name": "stdout",
          "text": [
            "-------------------------------------\n",
            "incorrectly classified as faces\n",
            "training\n",
            "[[1.]]\n"
          ]
        },
        {
          "output_type": "display_data",
          "data": {
            "text/plain": [
              "<PIL.Image.Image image mode=L size=92x112 at 0x7F7D1953B9A0>"
            ],
            "image/png": "[encoded data removed]"
          },
          "metadata": {}
        },
        {
          "output_type": "stream",
          "name": "stdout",
          "text": [
            "testing\n",
            "[0.]\n"
          ]
        },
        {
          "output_type": "display_data",
          "data": {
            "text/plain": [
              "<PIL.Image.Image image mode=L size=92x112 at 0x7F7DB1577A30>"
            ],
            "image/png": "[encoded data removed]"
          },
          "metadata": {}
        },
        {
          "output_type": "stream",
          "name": "stdout",
          "text": [
            "-------------------------------------\n",
            "alpha = 0.9 accuracy:96.2%\n"
          ]
        }
      ],
      "source": [
        "accuracy_PCA_fnf_300 = KNN(1,projected_matrix_test_fnf_300,projected_matrix_fnf_300,train_labels_f_nf_300,test_labels_f_nf_300,faces_nf_test_300,faces_nf_train_300) #First NN is KNN with k =1\n",
        "print(f'alpha = 0.9 accuracy:{accuracy_PCA_fnf_300}%')"
      ]
    },
    {
      "cell_type": "markdown",
      "metadata": {
        "id": "oQ4drF4je-T9"
      },
      "source": [
        "Binary LDA"
      ]
    },
    {
      "cell_type": "code",
      "execution_count": null,
      "metadata": {
        "id": "zmkqthmpjSsr",
        "colab": {
          "base_uri": "https://localhost:8080/"
        },
        "outputId": "547074d5-7af4-444b-fc1b-6b0ea60f0028"
      },
      "outputs": [
        {
          "output_type": "stream",
          "name": "stdout",
          "text": [
            "(10304, 1)\n",
            "(10304, 10304)\n",
            "(10304,)\n",
            "(10304, 10304)\n"
          ]
        }
      ],
      "source": [
        "eigen_values_blda_300,eigen_vector_blda_300 = binary_LDA(faces_nf_train_300,train_labels_f_nf_300)"
      ]
    },
    {
      "cell_type": "code",
      "execution_count": null,
      "metadata": {
        "id": "xZrfmU9gjSsr",
        "colab": {
          "base_uri": "https://localhost:8080/"
        },
        "outputId": "f79f9810-154e-4a29-87ca-1d57b1e080e7"
      },
      "outputs": [
        {
          "output_type": "stream",
          "name": "stdout",
          "text": [
            "1\n"
          ]
        }
      ],
      "source": [
        "dominant_eigen_values_no_300 = dimensions(0.9,np.diag(eigen_values_blda_300))\n",
        "print(dominant_eigen_values_no_300)"
      ]
    },
    {
      "cell_type": "markdown",
      "metadata": {
        "id": "qpnVukq0ZDHd"
      },
      "source": [
        "Projection"
      ]
    },
    {
      "cell_type": "code",
      "execution_count": null,
      "metadata": {
        "id": "nHB0bdd0ZDHe"
      },
      "outputs": [],
      "source": [
        "projected_matrix_lda_fnf_300 = np.dot(Z_faces_300,eigen_vector_blda_300[:,0:dominant_eigen_values_no_300])\n",
        "projected_matrix_test_lda_fnf_300 = np.dot(Z_faces_testing_300,eigen_vector_blda_300[:,0:dominant_eigen_values_no_300])"
      ]
    },
    {
      "cell_type": "markdown",
      "metadata": {
        "id": "lx_fAeP6ZDHf"
      },
      "source": [
        "F-NN faces vs non-faces"
      ]
    },
    {
      "cell_type": "code",
      "execution_count": null,
      "metadata": {
        "id": "YIP8TsCEZDHf",
        "colab": {
          "base_uri": "https://localhost:8080/",
          "height": 1000
        },
        "outputId": "47dae655-e9b4-4fdf-944f-f31fc4b8129c"
      },
      "outputs": [
        {
          "output_type": "display_data",
          "data": {
            "text/plain": [
              "<Figure size 432x288 with 2 Axes>"
            ],
            "image/png": "[encoded data removed]"
          },
          "metadata": {
            "needs_background": "light"
          }
        },
        {
          "output_type": "stream",
          "name": "stdout",
          "text": [
            "correctly classified as non-faces\n",
            "training\n",
            "[[0.]]\n"
          ]
        },
        {
          "output_type": "display_data",
          "data": {
            "text/plain": [
              "<PIL.Image.Image image mode=L size=92x112 at 0x7FC52A2EE1C0>"
            ],
            "image/png": "[encoded data removed]"
          },
          "metadata": {}
        },
        {
          "output_type": "stream",
          "name": "stdout",
          "text": [
            "testing\n",
            "[0.]\n"
          ]
        },
        {
          "output_type": "display_data",
          "data": {
            "text/plain": [
              "<PIL.Image.Image image mode=L size=92x112 at 0x7FC537973A30>"
            ],
            "image/png": "[encoded data removed]"
          },
          "metadata": {}
        },
        {
          "output_type": "stream",
          "name": "stdout",
          "text": [
            "-------------------------------------\n",
            "correctly classified as faces\n",
            "training\n",
            "[[1.]]\n"
          ]
        },
        {
          "output_type": "display_data",
          "data": {
            "text/plain": [
              "<PIL.Image.Image image mode=L size=92x112 at 0x7FC52A2EE610>"
            ],
            "image/png": "[encoded data removed]"
          },
          "metadata": {}
        },
        {
          "output_type": "stream",
          "name": "stdout",
          "text": [
            "testing\n",
            "[1.]\n"
          ]
        },
        {
          "output_type": "display_data",
          "data": {
            "text/plain": [
              "<PIL.Image.Image image mode=L size=92x112 at 0x7FC52A2EE1C0>"
            ],
            "image/png": "[encoded data removed]"
          },
          "metadata": {}
        },
        {
          "output_type": "stream",
          "name": "stdout",
          "text": [
            "-------------------------------------\n",
            "incorrectly classified as faces\n",
            "training\n",
            "[[1.]]\n"
          ]
        },
        {
          "output_type": "display_data",
          "data": {
            "text/plain": [
              "<PIL.Image.Image image mode=L size=92x112 at 0x7FC52A2EE310>"
            ],
            "image/png": "[encoded data removed]"
          },
          "metadata": {}
        },
        {
          "output_type": "stream",
          "name": "stdout",
          "text": [
            "testing\n",
            "[0.]\n"
          ]
        },
        {
          "output_type": "display_data",
          "data": {
            "text/plain": [
              "<PIL.Image.Image image mode=L size=92x112 at 0x7FC52A2EE3D0>"
            ],
            "image/png": "[encoded data removed]"
          },
          "metadata": {}
        },
        {
          "output_type": "stream",
          "name": "stdout",
          "text": [
            "-------------------------------------\n",
            "incorrectly classified as non-faces\n",
            "training\n",
            "[[0.]]\n"
          ]
        },
        {
          "output_type": "display_data",
          "data": {
            "text/plain": [
              "<PIL.Image.Image image mode=L size=92x112 at 0x7FC52A2EE6A0>"
            ],
            "image/png": "[encoded data removed]"
          },
          "metadata": {}
        },
        {
          "output_type": "stream",
          "name": "stdout",
          "text": [
            "testing\n",
            "[1.]\n"
          ]
        },
        {
          "output_type": "display_data",
          "data": {
            "text/plain": [
              "<PIL.Image.Image image mode=L size=92x112 at 0x7FC52A2EE640>"
            ],
            "image/png": "[encoded data removed]"
          },
          "metadata": {}
        },
        {
          "output_type": "stream",
          "name": "stdout",
          "text": [
            "-------------------------------------\n",
            "alpha = 0.9 accuracy:79.0%\n"
          ]
        }
      ],
      "source": [
        "accuracy_LDA_fnf_300 = KNN(1,projected_matrix_test_lda_fnf_300,projected_matrix_lda_fnf_300,train_labels_f_nf_300,test_labels_f_nf_300,faces_nf_test_300,faces_nf_train_300) #First NN is KNN with k =1\n",
        "print(f'alpha = 0.9 accuracy:{accuracy_LDA_fnf_300}%')"
      ]
    },
    {
      "cell_type": "markdown",
      "metadata": {
        "id": "gYXxvavrg2jj"
      },
      "source": [
        "Selecting a sample of 250 non-faces for training-testing datasets"
      ]
    },
    {
      "cell_type": "code",
      "execution_count": null,
      "metadata": {
        "id": "lvXVipjWausr",
        "colab": {
          "base_uri": "https://localhost:8080/"
        },
        "outputId": "68239566-70d9-4b4e-862b-31febe490b97"
      },
      "outputs": [
        {
          "output_type": "stream",
          "name": "stdout",
          "text": [
            "[[144 144 144 ... 102 101 101]\n",
            " [187 186 185 ...  27  27  27]\n",
            " [ 63  58  48 ... 118 120 121]\n",
            " ...\n",
            " [164 163 160 ...  66  66  66]\n",
            " [ 46  48  54 ... 107 103 102]\n",
            " [ 81  82  86 ...  18  18  18]]\n",
            "(250, 10304)\n"
          ]
        }
      ],
      "source": [
        "random_indices_250 = np.random.choice(test_nf.shape[0], 250, replace=False) \n",
        "train_nf_250 = train_nf[random_indices_250]\n",
        "test_nf_250 = test_nf[random_indices_250]\n",
        "train_non_faces_250,test_non_faces_250 = Prepare_non_faces(train_nf_250,test_nf_250)\n",
        "print(train_non_faces_250)\n",
        "print(test_non_faces_250.shape)"
      ]
    },
    {
      "cell_type": "code",
      "execution_count": null,
      "metadata": {
        "id": "wdF0Is_7foDc",
        "colab": {
          "base_uri": "https://localhost:8080/"
        },
        "outputId": "def21a0a-244b-4564-d130-7c3539062051"
      },
      "outputs": [
        {
          "output_type": "stream",
          "name": "stdout",
          "text": [
            "(450, 10304)\n",
            "(450, 10304)\n"
          ]
        }
      ],
      "source": [
        "faces_nf_train_250 = np.concatenate((train_non_faces_250,training_set),axis=0)\n",
        "faces_nf_test_250 = np.concatenate((test_non_faces_250,testing_set),axis=0)\n",
        "zeros_250 = np.zeros(250)\n",
        "ones_250 =  np.ones(200)\n",
        "train_labels_f_nf_250 = np.concatenate((zeros_250,ones_250),axis=0)\n",
        "test_labels_f_nf_250 = np.concatenate((zeros_250,ones_250),axis=0)\n",
        "print(faces_nf_train_250.shape)\n",
        "print(faces_nf_test_250.shape)"
      ]
    },
    {
      "cell_type": "code",
      "execution_count": null,
      "metadata": {
        "id": "npMcELdAf9Ap",
        "colab": {
          "base_uri": "https://localhost:8080/"
        },
        "outputId": "c18d44d4-189d-415e-919d-8c7765ae5c4c"
      },
      "outputs": [
        {
          "output_type": "stream",
          "name": "stdout",
          "text": [
            "(10304, 10304)\n",
            "(10304, 10304)\n",
            "True\n"
          ]
        }
      ],
      "source": [
        "eigen_faces_vector_250 ,Z_faces_250 , eigen_faces_values_250 = PCA(faces_nf_train_250)"
      ]
    },
    {
      "cell_type": "code",
      "execution_count": null,
      "metadata": {
        "id": "Z60xVLyCgC9s"
      },
      "outputs": [],
      "source": [
        "mean_testing_fnf_250 = faces_nf_test_250.mean(axis=0)\n",
        "Z_faces_testing_250 = faces_nf_test_250 - mean_testing_fnf_250"
      ]
    },
    {
      "cell_type": "code",
      "execution_count": null,
      "metadata": {
        "id": "rn6c1CjEgEJ8",
        "colab": {
          "base_uri": "https://localhost:8080/"
        },
        "outputId": "b4b2c1ad-926f-4fcf-85e2-9b89c4f9e6d8"
      },
      "outputs": [
        {
          "output_type": "stream",
          "name": "stdout",
          "text": [
            "64\n",
            "[[ 1.72852298e+03  4.12309318e+02 -3.75097325e+02 ...  1.03154819e+01\n",
            "  -6.95484752e+01 -2.83663441e+02]\n",
            " [-1.44228117e+03  9.20670922e+02 -5.82274094e+02 ... -3.07394731e+01\n",
            "   9.34269671e+01  1.02923608e+02]\n",
            " [-4.85182690e+03 -1.21492565e+03  2.06530467e+03 ...  9.18565803e-01\n",
            "  -1.60207873e+02  1.25031008e+01]\n",
            " ...\n",
            " [-2.87561178e+02 -8.82584880e+02 -1.18375353e+03 ...  1.73803580e+02\n",
            "   2.04912632e+02  1.88198096e+02]\n",
            " [-2.87822056e+02 -8.36002002e+02 -1.44138490e+03 ... -3.13275522e+01\n",
            "   2.23464807e+02  2.30480466e+02]\n",
            " [-2.48721670e+02 -5.69664304e+02 -1.07335601e+03 ... -3.91906062e+01\n",
            "   6.99789010e+01  3.31655392e+02]]\n"
          ]
        }
      ],
      "source": [
        "fnf_250=dimensions(0.9,eigen_faces_values_250)  #get numbers of dimensions for 90% accuracy\n",
        "print(fnf_250)\n",
        "Ur_faces_250 = eigen_faces_vector_250[:, 0 : fnf_250]  #choose only specified dimensions\n",
        "projected_matrix_fnf_250 = np.dot(Z_faces_250,Ur_faces_250)  #project training data, with specified dimensions\n",
        "projected_matrix_test_fnf_250 = np.dot(Z_faces_testing_250,Ur_faces_250) #project testing data\n",
        "print(projected_matrix_fnf_250)"
      ]
    },
    {
      "cell_type": "code",
      "execution_count": null,
      "metadata": {
        "id": "3AU4sCiwgIrn",
        "colab": {
          "base_uri": "https://localhost:8080/",
          "height": 1000
        },
        "outputId": "6030aee9-3d7b-4f60-d2c2-f120f0d74abc"
      },
      "outputs": [
        {
          "output_type": "display_data",
          "data": {
            "text/plain": [
              "<Figure size 432x288 with 2 Axes>"
            ],
            "image/png": "[encoded data removed]"
          },
          "metadata": {
            "needs_background": "light"
          }
        },
        {
          "output_type": "stream",
          "name": "stdout",
          "text": [
            "correctly classified as faces\n",
            "training\n",
            "[[1.]]\n"
          ]
        },
        {
          "output_type": "display_data",
          "data": {
            "text/plain": [
              "<PIL.Image.Image image mode=L size=92x112 at 0x7F7D1953BEE0>"
            ],
            "image/png": "[encoded data removed]"
          },
          "metadata": {}
        },
        {
          "output_type": "stream",
          "name": "stdout",
          "text": [
            "testing\n",
            "[1.]\n"
          ]
        },
        {
          "output_type": "display_data",
          "data": {
            "text/plain": [
              "<PIL.Image.Image image mode=L size=92x112 at 0x7F7D26A958E0>"
            ],
            "image/png": "[encoded data removed]"
          },
          "metadata": {}
        },
        {
          "output_type": "stream",
          "name": "stdout",
          "text": [
            "-------------------------------------\n",
            "correctly classified as non-faces\n",
            "training\n",
            "[[1.]]\n"
          ]
        },
        {
          "output_type": "display_data",
          "data": {
            "text/plain": [
              "<PIL.Image.Image image mode=L size=92x112 at 0x7F7D1958D730>"
            ],
            "image/png": "[encoded data removed]"
          },
          "metadata": {}
        },
        {
          "output_type": "stream",
          "name": "stdout",
          "text": [
            "testing\n",
            "[1.]\n"
          ]
        },
        {
          "output_type": "display_data",
          "data": {
            "text/plain": [
              "<PIL.Image.Image image mode=L size=92x112 at 0x7F7D1958DD00>"
            ],
            "image/png": "[encoded data removed]"
          },
          "metadata": {}
        },
        {
          "output_type": "stream",
          "name": "stdout",
          "text": [
            "-------------------------------------\n",
            "incorrectly classified as faces\n",
            "training\n",
            "[[1.]]\n"
          ]
        },
        {
          "output_type": "display_data",
          "data": {
            "text/plain": [
              "<PIL.Image.Image image mode=L size=92x112 at 0x7F7D19518310>"
            ],
            "image/png": "[encoded data removed]"
          },
          "metadata": {}
        },
        {
          "output_type": "stream",
          "name": "stdout",
          "text": [
            "testing\n",
            "[0.]\n"
          ]
        },
        {
          "output_type": "display_data",
          "data": {
            "text/plain": [
              "<PIL.Image.Image image mode=L size=92x112 at 0x7F7D19469280>"
            ],
            "image/png": "[encoded data removed]"
          },
          "metadata": {}
        },
        {
          "output_type": "stream",
          "name": "stdout",
          "text": [
            "-------------------------------------\n",
            "alpha = 0.9 accuracy:96.0%\n"
          ]
        }
      ],
      "source": [
        "accuracy_PCA_fnf_250 = KNN(1,projected_matrix_test_fnf_250,projected_matrix_fnf_250,train_labels_f_nf_250,test_labels_f_nf_250,faces_nf_test_250,faces_nf_train_250) #First NN is KNN with k =1\n",
        "print(f'alpha = 0.9 accuracy:{accuracy_PCA_fnf_250}%')"
      ]
    },
    {
      "cell_type": "markdown",
      "metadata": {
        "id": "D5oKs8uwef7K"
      },
      "source": [
        "Binary LDA"
      ]
    },
    {
      "cell_type": "code",
      "execution_count": null,
      "metadata": {
        "id": "VLOeFVFCgPoY",
        "colab": {
          "base_uri": "https://localhost:8080/"
        },
        "outputId": "a037fb77-f73b-4dac-ca4c-271188277fef"
      },
      "outputs": [
        {
          "output_type": "stream",
          "name": "stdout",
          "text": [
            "(10304, 1)\n",
            "(10304, 10304)\n"
          ]
        }
      ],
      "source": [
        "eigen_values_blda_250,eigen_vector_blda_250 = binary_LDA(faces_nf_train_250,train_labels_f_nf_250)"
      ]
    },
    {
      "cell_type": "code",
      "execution_count": null,
      "metadata": {
        "id": "pgLthOB1gS6b"
      },
      "outputs": [],
      "source": [
        "dominant_eigen_values_no_250 = dimensions(0.9,np.diag(eigen_values_blda_250))\n",
        "print(dominant_eigen_values_no_250)"
      ]
    },
    {
      "cell_type": "markdown",
      "metadata": {
        "id": "RLlGS1SBYbv2"
      },
      "source": [
        "Projection"
      ]
    },
    {
      "cell_type": "code",
      "execution_count": null,
      "metadata": {
        "id": "14VxriGDYbv3"
      },
      "outputs": [],
      "source": [
        "projected_matrix_lda_fnf_250 = np.dot(Z_faces_250,eigen_vector_blda_250[:,0:dominant_eigen_values_no_250])\n",
        "projected_matrix_test_lda_fnf_250 = np.dot(Z_faces_testing_250,eigen_vector_blda_250[:,0:dominant_eigen_values_no_250])"
      ]
    },
    {
      "cell_type": "markdown",
      "metadata": {
        "id": "hWxv5i0RYbv4"
      },
      "source": [
        "F-NN faces vs non-faces"
      ]
    },
    {
      "cell_type": "code",
      "execution_count": null,
      "metadata": {
        "id": "LtDy1Gi2Ybv5"
      },
      "outputs": [],
      "source": [
        "accuracy_LDA_fnf_250 = KNN(1,projected_matrix_test_lda_fnf_250,projected_matrix_lda_fnf_250,train_labels_f_nf_250,test_labels_f_nf_250,faces_nf_test_250,faces_nf_train_250) #First NN is KNN with k =1\n",
        "print(f'alpha = 0.9 accuracy:{accuracy_LDA_fnf_250}%')"
      ]
    },
    {
      "cell_type": "markdown",
      "metadata": {
        "id": "WSW1Q4hCVjs0"
      },
      "source": [
        "Selecting a sample of 200 non-faces for 50%-50% training-testing datasets"
      ]
    },
    {
      "cell_type": "code",
      "execution_count": null,
      "metadata": {
        "id": "I43eAmY0U_Cf"
      },
      "outputs": [],
      "source": [
        "random_indices = np.random.choice(test_nf.shape[0], 200, replace=False) \n",
        "train_nf = train_nf[random_indices]\n",
        "test_nf = test_nf[random_indices]\n",
        "train_non_faces,test_non_faces = Prepare_non_faces(train_nf,test_nf)\n",
        "print(train_non_faces)\n",
        "print(test_non_faces.shape)"
      ]
    },
    {
      "cell_type": "markdown",
      "metadata": {
        "id": "40h05vilZBiU"
      },
      "source": [
        "Merging faces and non-faces in a single dataset"
      ]
    },
    {
      "cell_type": "code",
      "execution_count": null,
      "metadata": {
        "id": "jEIfLDgHY_9w",
        "colab": {
          "base_uri": "https://localhost:8080/"
        },
        "outputId": "2d45f406-dee0-4cc6-d141-8e4f5d5615e1"
      },
      "outputs": [
        {
          "output_type": "stream",
          "name": "stdout",
          "text": [
            "(400, 10304)\n",
            "(400, 10304)\n"
          ]
        }
      ],
      "source": [
        "faces_nf_train = np.concatenate((train_non_faces,training_set),axis=0)\n",
        "faces_nf_test = np.concatenate((test_non_faces,testing_set),axis=0)\n",
        "zeros = np.zeros(200)\n",
        "ones =  np.ones(200)\n",
        "train_labels_f_nf = np.concatenate((zeros,ones),axis=0)\n",
        "test_labels_f_nf = np.concatenate((zeros,ones),axis=0)\n",
        "print(faces_nf_train.shape)\n",
        "print(faces_nf_test.shape)"
      ]
    },
    {
      "cell_type": "markdown",
      "metadata": {
        "id": "zgSzYOAPjIGl"
      },
      "source": [
        "PCA for faces vs non-faces classification"
      ]
    },
    {
      "cell_type": "code",
      "execution_count": null,
      "metadata": {
        "id": "McMB3o2IjHly",
        "colab": {
          "base_uri": "https://localhost:8080/"
        },
        "outputId": "620a6b73-2030-45f5-afd0-186cd2812932"
      },
      "outputs": [
        {
          "output_type": "stream",
          "name": "stdout",
          "text": [
            "(10304, 10304)\n",
            "(10304, 10304)\n",
            "True\n"
          ]
        }
      ],
      "source": [
        "eigen_faces_vector ,Z_faces , eigen_faces_values= PCA(faces_nf_train)"
      ]
    },
    {
      "cell_type": "markdown",
      "metadata": {
        "id": "0yy4E00CnSHK"
      },
      "source": [
        "Center testing data"
      ]
    },
    {
      "cell_type": "code",
      "execution_count": null,
      "metadata": {
        "id": "2MYBzKoBm_gR"
      },
      "outputs": [],
      "source": [
        "mean_testing_fnf = faces_nf_test.mean(axis=0)\n",
        "Z_faces_testing = faces_nf_test - mean_testing_fnf"
      ]
    },
    {
      "cell_type": "markdown",
      "metadata": {
        "id": "7UMdCP6FoZzd"
      },
      "source": [
        "Projection"
      ]
    },
    {
      "cell_type": "code",
      "execution_count": null,
      "metadata": {
        "id": "5N2N03pgoaTf",
        "colab": {
          "base_uri": "https://localhost:8080/"
        },
        "outputId": "2ad477fc-e640-4916-b98f-570c7546f308"
      },
      "outputs": [
        {
          "output_type": "stream",
          "name": "stdout",
          "text": [
            "65\n",
            "[[  408.24127122 -1906.21934438 -1713.6628803  ...   -48.46902662\n",
            "   -121.43746472     5.53114915]\n",
            " [ 2486.29277445  3106.73165623   852.07508351 ...  -228.56986332\n",
            "   -125.5364973    -97.76279807]\n",
            " [  818.70955862   109.19950543 -1601.41504504 ...   -25.34908969\n",
            "     27.93336756   -42.1873359 ]\n",
            " ...\n",
            " [   71.52562528  -856.01367408  1071.25128537 ...   170.92191868\n",
            "    183.22959814  -289.87698819]\n",
            " [   67.71066271  -821.44489945  1325.35363716 ...   310.43846357\n",
            "     -9.42403248  -428.57144841]\n",
            " [   82.24697791  -491.50561194  1046.0663726  ...  -213.26297743\n",
            "   -357.16006995  -221.99028657]]\n"
          ]
        }
      ],
      "source": [
        "fnf=dimensions(0.9,eigen_faces_values)  #get numbers of dimensions for 90% accuracy\n",
        "print(fnf)\n",
        "Ur_faces = eigen_faces_vector[:, 0 : fnf]  #choose only specified dimensions\n",
        "projected_matrix_fnf = np.dot(Z_faces,Ur_faces)  #project training data, with specified dimensions\n",
        "projected_matrix_test_fnf = np.dot(Z_faces_testing,Ur_faces) #project testing data\n",
        "print(projected_matrix_fnf)\n"
      ]
    },
    {
      "cell_type": "markdown",
      "source": [
        "F-NN PCA Face vs Non-faces"
      ],
      "metadata": {
        "id": "7ep_twSb4o4m"
      }
    },
    {
      "cell_type": "code",
      "execution_count": null,
      "metadata": {
        "id": "WZ63dkbIpT95",
        "colab": {
          "base_uri": "https://localhost:8080/",
          "height": 1000
        },
        "outputId": "5259b90b-0f94-475e-e7d6-75690fe57c6a"
      },
      "outputs": [
        {
          "output_type": "display_data",
          "data": {
            "text/plain": [
              "<Figure size 432x288 with 2 Axes>"
            ],
            "image/png": "[encoded data removed]"
          },
          "metadata": {
            "needs_background": "light"
          }
        },
        {
          "output_type": "stream",
          "name": "stdout",
          "text": [
            "correctly classified as non-faces\n",
            "training\n",
            "[[0.]]\n"
          ]
        },
        {
          "output_type": "display_data",
          "data": {
            "text/plain": [
              "<PIL.Image.Image image mode=L size=92x112 at 0x7F7D19566850>"
            ],
            "image/png": "[encoded data removed]"
          },
          "metadata": {}
        },
        {
          "output_type": "stream",
          "name": "stdout",
          "text": [
            "testing\n",
            "[0.]\n"
          ]
        },
        {
          "output_type": "display_data",
          "data": {
            "text/plain": [
              "<PIL.Image.Image image mode=L size=92x112 at 0x7F7D194E3760>"
            ],
            "image/png": "[encoded data removed]"
          },
          "metadata": {}
        },
        {
          "output_type": "stream",
          "name": "stdout",
          "text": [
            "-------------------------------------\n",
            "correctly classified as faces\n",
            "training\n",
            "[[1.]]\n"
          ]
        },
        {
          "output_type": "display_data",
          "data": {
            "text/plain": [
              "<PIL.Image.Image image mode=L size=92x112 at 0x7F7D19469490>"
            ],
            "image/png": "[encoded data removed]"
          },
          "metadata": {}
        },
        {
          "output_type": "stream",
          "name": "stdout",
          "text": [
            "testing\n",
            "[1.]\n"
          ]
        },
        {
          "output_type": "display_data",
          "data": {
            "text/plain": [
              "<PIL.Image.Image image mode=L size=92x112 at 0x7F7D1953BD30>"
            ],
            "image/png": "[encoded data removed]"
          },
          "metadata": {}
        },
        {
          "output_type": "stream",
          "name": "stdout",
          "text": [
            "-------------------------------------\n",
            "incorrectly classified as faces\n",
            "training\n",
            "[[1.]]\n"
          ]
        },
        {
          "output_type": "display_data",
          "data": {
            "text/plain": [
              "<PIL.Image.Image image mode=L size=92x112 at 0x7F7D194AFA30>"
            ],
            "image/png": "[encoded data removed]"
          },
          "metadata": {}
        },
        {
          "output_type": "stream",
          "name": "stdout",
          "text": [
            "testing\n",
            "[0.]\n"
          ]
        },
        {
          "output_type": "display_data",
          "data": {
            "text/plain": [
              "<PIL.Image.Image image mode=L size=92x112 at 0x7F7D19566850>"
            ],
            "image/png": "[encoded data removed]"
          },
          "metadata": {}
        },
        {
          "output_type": "stream",
          "name": "stdout",
          "text": [
            "-------------------------------------\n",
            "alpha = 0.9 accuracy:95.75%\n"
          ]
        }
      ],
      "source": [
        "accuracy_PCA_fnf = KNN(1,projected_matrix_test_fnf,projected_matrix_fnf,train_labels_f_nf,test_labels_f_nf,faces_nf_test,faces_nf_train) #First NN is KNN with k =1\n",
        "print(f'alpha = 0.9 accuracy:{accuracy_PCA_fnf}%')\n"
      ]
    },
    {
      "cell_type": "markdown",
      "metadata": {
        "id": "Nn7m-3BYdyU0"
      },
      "source": [
        "Binary LDA for faces vs non-faces"
      ]
    },
    {
      "cell_type": "code",
      "execution_count": null,
      "metadata": {
        "id": "g-SxpF0n5lve"
      },
      "outputs": [],
      "source": [
        "eigen_values_blda,eigen_vector_blda = binary_LDA(faces_nf_train,train_labels_f_nf)"
      ]
    },
    {
      "cell_type": "code",
      "execution_count": null,
      "metadata": {
        "id": "jGX14BFG7Uw3"
      },
      "outputs": [],
      "source": [
        "dominant_eigen_values_no = dimensions(0.9,np.diag(eigen_values_blda))\n",
        "print(dominant_eigen_values_no)"
      ]
    },
    {
      "cell_type": "markdown",
      "metadata": {
        "id": "NZs_LM9Td2Xw"
      },
      "source": [
        "Projection"
      ]
    },
    {
      "cell_type": "code",
      "execution_count": null,
      "metadata": {
        "id": "77sB8jL8d4pq"
      },
      "outputs": [],
      "source": [
        "projected_matrix_lda_fnf = np.dot(Z_faces,eigen_vector_blda[:,0:dominant_eigen_values_no])\n",
        "projected_matrix_test_lda_fnf = np.dot(Z_faces_testing,eigen_vector_blda[:,0:dominant_eigen_values_no])"
      ]
    },
    {
      "cell_type": "markdown",
      "metadata": {
        "id": "bIlHHSV-fZn0"
      },
      "source": [
        "F-NN faces vs non-faces"
      ]
    },
    {
      "cell_type": "code",
      "execution_count": null,
      "metadata": {
        "id": "KKZL_QwrfZNc"
      },
      "outputs": [],
      "source": [
        "accuracy_LDA_fnf = KNN(1,projected_matrix_test_lda_fnf,projected_matrix_lda_fnf,train_labels_f_nf,test_labels_f_nf,faces_nf_test,faces_nf_train) #First NN is KNN with k =1\n",
        "print(f'alpha = 0.9 accuracy:{accuracy_LDA_fnf}%')"
      ]
    },
    {
      "cell_type": "markdown",
      "metadata": {
        "id": "bg6dFLt-acj2"
      },
      "source": [
        "Selecting a sample of 150 non-faces for training-testing datasets"
      ]
    },
    {
      "cell_type": "code",
      "execution_count": null,
      "metadata": {
        "id": "TG0Insu_BWWC",
        "colab": {
          "base_uri": "https://localhost:8080/"
        },
        "outputId": "891d628d-04f4-4d4e-f521-052185e308fe"
      },
      "outputs": [
        {
          "output_type": "stream",
          "name": "stdout",
          "text": [
            "[[122 122 123 ...  92  89  88]\n",
            " [144 144 144 ... 136 135 135]\n",
            " [242 241 239 ... 119 119 119]\n",
            " ...\n",
            " [164 166 172 ...   4   3   3]\n",
            " [216 216 215 ... 127 128 128]\n",
            " [131 131 131 ... 157 158 158]]\n",
            "(150, 10304)\n"
          ]
        }
      ],
      "source": [
        "random_indices_150 = np.random.choice(test_nf.shape[0], 150, replace=False) \n",
        "train_nf_150 = train_nf[random_indices_150]\n",
        "test_nf_150 = test_nf[random_indices_150]\n",
        "train_non_faces_150,test_non_faces_150 = Prepare_non_faces(train_nf_150,test_nf_150)\n",
        "print(train_non_faces_150)\n",
        "print(test_non_faces_150.shape)"
      ]
    },
    {
      "cell_type": "code",
      "execution_count": null,
      "metadata": {
        "id": "Sf5pNXXyNH5M",
        "colab": {
          "base_uri": "https://localhost:8080/"
        },
        "outputId": "e294df00-124c-4493-b519-b10283fcfed9"
      },
      "outputs": [
        {
          "output_type": "stream",
          "name": "stdout",
          "text": [
            "(350, 10304)\n",
            "(350, 10304)\n"
          ]
        }
      ],
      "source": [
        "faces_nf_train_150 = np.concatenate((train_non_faces_150,training_set),axis=0)\n",
        "faces_nf_test_150 = np.concatenate((test_non_faces_150,testing_set),axis=0)\n",
        "zeros_150 = np.zeros(150)\n",
        "ones_150 =  np.ones(200)\n",
        "train_labels_f_nf_150 = np.concatenate((zeros_150,ones_150),axis=0)\n",
        "test_labels_f_nf_150 = np.concatenate((zeros_150,ones_150),axis=0)\n",
        "print(faces_nf_train_150.shape)\n",
        "print(faces_nf_test_150.shape)"
      ]
    },
    {
      "cell_type": "code",
      "execution_count": null,
      "metadata": {
        "id": "iybw62fIOwG4",
        "colab": {
          "base_uri": "https://localhost:8080/"
        },
        "outputId": "f19e7dd1-4c7a-41c2-ce05-f66383860492"
      },
      "outputs": [
        {
          "output_type": "stream",
          "name": "stdout",
          "text": [
            "(10304, 10304)\n",
            "(10304, 10304)\n",
            "True\n"
          ]
        }
      ],
      "source": [
        "eigen_faces_vector_150 ,Z_faces_150 , eigen_faces_values_150 = PCA(faces_nf_train_150)"
      ]
    },
    {
      "cell_type": "code",
      "execution_count": null,
      "metadata": {
        "id": "5DgV8cmUQPVe"
      },
      "outputs": [],
      "source": [
        "mean_testing_fnf_150 = faces_nf_test_150.mean(axis=0)\n",
        "Z_faces_testing_150 = faces_nf_test_150 - mean_testing_fnf_150"
      ]
    },
    {
      "cell_type": "code",
      "execution_count": null,
      "metadata": {
        "id": "6uQ0D3fBQadS",
        "colab": {
          "base_uri": "https://localhost:8080/"
        },
        "outputId": "ae2bafc9-56f1-4a64-f7cd-be7d481c5c9f"
      },
      "outputs": [
        {
          "output_type": "stream",
          "name": "stdout",
          "text": [
            "66\n",
            "[[  -98.1243339    649.6317996   1453.79105449 ...   307.87570066\n",
            "   -187.33760597   121.63417961]\n",
            " [-4355.82431414   -38.36293594  2621.46772733 ...    53.85546555\n",
            "    -19.37384941   -52.10187156]\n",
            " [ -234.02281136  3407.52625717 -2382.6608183  ...   157.8688499\n",
            "    -38.50145947  -505.68145759]\n",
            " ...\n",
            " [ -115.89765727  -928.95582996   716.60219182 ...   276.21125765\n",
            "    -33.83648643   197.39915874]\n",
            " [ -105.22284126  -947.30463626   981.51948007 ...    38.1180554\n",
            "   -150.60243034   207.64505215]\n",
            " [ -100.27699867  -569.23210105   802.38048308 ...  -156.67703457\n",
            "    -80.66680424  -177.11152788]]\n"
          ]
        }
      ],
      "source": [
        "fnf_150=dimensions(0.9,eigen_faces_values_150)  #get numbers of dimensions for 90% accuracy\n",
        "print(fnf_150)\n",
        "Ur_faces_150 = eigen_faces_vector_150[:, 0 : fnf_150]  #choose only specified dimensions\n",
        "projected_matrix_fnf_150 = np.dot(Z_faces_150,Ur_faces_150)  #project training data, with specified dimensions\n",
        "projected_matrix_test_fnf_150 = np.dot(Z_faces_testing_150,Ur_faces_150) #project testing data\n",
        "print(projected_matrix_fnf_150)"
      ]
    },
    {
      "cell_type": "code",
      "execution_count": null,
      "metadata": {
        "id": "G-cAABWyQq-Q",
        "colab": {
          "base_uri": "https://localhost:8080/",
          "height": 1000
        },
        "outputId": "f467d2d6-a686-434a-b528-36c36adf844e"
      },
      "outputs": [
        {
          "output_type": "display_data",
          "data": {
            "text/plain": [
              "<Figure size 432x288 with 2 Axes>"
            ],
            "image/png": "[encoded data removed]"
          },
          "metadata": {
            "needs_background": "light"
          }
        },
        {
          "output_type": "stream",
          "name": "stdout",
          "text": [
            "correctly classified as faces\n",
            "training\n",
            "[[1.]]\n"
          ]
        },
        {
          "output_type": "display_data",
          "data": {
            "text/plain": [
              "<PIL.Image.Image image mode=L size=92x112 at 0x7F7D1953BA00>"
            ],
            "image/png": "[encoded data removed]"
          },
          "metadata": {}
        },
        {
          "output_type": "stream",
          "name": "stdout",
          "text": [
            "testing\n",
            "[1.]\n"
          ]
        },
        {
          "output_type": "display_data",
          "data": {
            "text/plain": [
              "<PIL.Image.Image image mode=L size=92x112 at 0x7F7D1953BB20>"
            ],
            "image/png": "[encoded data removed]"
          },
          "metadata": {}
        },
        {
          "output_type": "stream",
          "name": "stdout",
          "text": [
            "-------------------------------------\n",
            "correctly classified as non-faces\n",
            "training\n",
            "[[1.]]\n"
          ]
        },
        {
          "output_type": "display_data",
          "data": {
            "text/plain": [
              "<PIL.Image.Image image mode=L size=92x112 at 0x7F7D1953B520>"
            ],
            "image/png": "[encoded data removed]"
          },
          "metadata": {}
        },
        {
          "output_type": "stream",
          "name": "stdout",
          "text": [
            "testing\n",
            "[1.]\n"
          ]
        },
        {
          "output_type": "display_data",
          "data": {
            "text/plain": [
              "<PIL.Image.Image image mode=L size=92x112 at 0x7F7D1953B9A0>"
            ],
            "image/png": "[encoded data removed]"
          },
          "metadata": {}
        },
        {
          "output_type": "stream",
          "name": "stdout",
          "text": [
            "-------------------------------------\n",
            "incorrectly classified as faces\n",
            "training\n",
            "[[1.]]\n"
          ]
        },
        {
          "output_type": "display_data",
          "data": {
            "text/plain": [
              "<PIL.Image.Image image mode=L size=92x112 at 0x7F7D194F8FA0>"
            ],
            "image/png": "[encoded data removed]"
          },
          "metadata": {}
        },
        {
          "output_type": "stream",
          "name": "stdout",
          "text": [
            "testing\n",
            "[0.]\n"
          ]
        },
        {
          "output_type": "display_data",
          "data": {
            "text/plain": [
              "<PIL.Image.Image image mode=L size=92x112 at 0x7F7D1953B670>"
            ],
            "image/png": "[encoded data removed]"
          },
          "metadata": {}
        },
        {
          "output_type": "stream",
          "name": "stdout",
          "text": [
            "-------------------------------------\n",
            "alpha = 0.9 accuracy:96.57142857142857%\n"
          ]
        }
      ],
      "source": [
        "accuracy_PCA_fnf_150 = KNN(1,projected_matrix_test_fnf_150,projected_matrix_fnf_150,train_labels_f_nf_150,test_labels_f_nf_150,faces_nf_test_150,faces_nf_train_150) #First NN is KNN with k =1\n",
        "print(f'alpha = 0.9 accuracy:{accuracy_PCA_fnf_150}%')"
      ]
    },
    {
      "cell_type": "markdown",
      "metadata": {
        "id": "aznHo4l5bpDk"
      },
      "source": [
        "Binary LDA"
      ]
    },
    {
      "cell_type": "code",
      "execution_count": null,
      "metadata": {
        "id": "f4aPpwilRfJ6"
      },
      "outputs": [],
      "source": [
        "eigen_values_blda_150,eigen_vector_blda_150 = binary_LDA(faces_nf_train_150,train_labels_f_nf_150)"
      ]
    },
    {
      "cell_type": "code",
      "execution_count": null,
      "metadata": {
        "id": "ggzz_8LtRtyh"
      },
      "outputs": [],
      "source": [
        "dominant_eigen_values_no_150 = dimensions(0.9,np.diag(eigen_values_blda_150))\n",
        "print(dominant_eigen_values_no_150)"
      ]
    },
    {
      "cell_type": "markdown",
      "metadata": {
        "id": "X5FvVJq7XiHx"
      },
      "source": [
        "Projection"
      ]
    },
    {
      "cell_type": "code",
      "execution_count": null,
      "metadata": {
        "id": "hl7a-WoIXiHy"
      },
      "outputs": [],
      "source": [
        "projected_matrix_lda_fnf_150 = np.dot(Z_faces_150,eigen_vector_blda_150[:,0:dominant_eigen_values_no_150])\n",
        "projected_matrix_test_lda_fnf_150 = np.dot(Z_faces_testing_150,eigen_vector_blda_150[:,0:dominant_eigen_values_no_150])"
      ]
    },
    {
      "cell_type": "markdown",
      "metadata": {
        "id": "Hsx_4a1dXiHy"
      },
      "source": [
        "F-NN faces vs non-faces"
      ]
    },
    {
      "cell_type": "code",
      "execution_count": null,
      "metadata": {
        "id": "vxKWetWAXiHy"
      },
      "outputs": [],
      "source": [
        "accuracy_LDA_fnf_150 = KNN(1,projected_matrix_test_lda_fnf_150,projected_matrix_lda_fnf_150,train_labels_f_nf_150,test_labels_f_nf_150,faces_nf_test_150,faces_nf_train_150) #First NN is KNN with k =1\n",
        "print(f'alpha = 0.9 accuracy:{accuracy_LDA_fnf_150}%')"
      ]
    },
    {
      "cell_type": "markdown",
      "metadata": {
        "id": "Ya_bE3d-oRvZ"
      },
      "source": [
        "Accuracy vs Number of non faces images "
      ]
    },
    {
      "cell_type": "code",
      "source": [
        "barWidth = 0.1\n",
        "fig = plt.subplots(figsize =(9, 8))\n",
        "# Set position of bar on X axis\n",
        "method=['PCA']\n",
        "br1 = np.arange(len(method ))\n",
        "br2 = [x + barWidth for x in br1]\n",
        "br3 = [x + barWidth for x in br2]\n",
        "br4 = [x + barWidth for x in br3]\n",
        "\n",
        "# Make the plot\n",
        "plt.bar(br1, accuracy_PCA_fnf_150, color ='r', width = barWidth,\n",
        "        edgecolor ='grey', label ='accuracy_150')\n",
        "plt.bar(br2, accuracy_PCA_fnf, color ='g', width = barWidth,\n",
        "        edgecolor ='grey', label ='accuracy_200')\n",
        "plt.bar(br3, accuracy_PCA_fnf_250, color ='b', width = barWidth,\n",
        "        edgecolor ='grey', label ='accuracy_250')\n",
        "plt.bar(br4, accuracy_PCA_fnf_300, color ='k', width = barWidth,\n",
        "        edgecolor ='grey', label ='accuracy_300')\n",
        "plt.xlabel('Method', fontweight ='bold', fontsize = 15)\n",
        "plt.ylabel('Accuracy', fontweight ='bold', fontsize = 15)\n",
        "plt.xticks([r + barWidth for r in range(len(method))],\n",
        "        ['PCA'])\n",
        "plt.legend()\n",
        "plt.ylim(80, 100)\n",
        "plt.show()"
      ],
      "metadata": {
        "colab": {
          "base_uri": "https://localhost:8080/",
          "height": 506
        },
        "id": "qMGHcGLP9U4e",
        "outputId": "645da5ef-fa02-4d48-dc74-edd1efd7da89"
      },
      "execution_count": null,
      "outputs": [
        {
          "output_type": "display_data",
          "data": {
            "text/plain": [
              "<Figure size 648x576 with 1 Axes>"
            ],
            "image/png": "[encoded data removed]"
          },
          "metadata": {
            "needs_background": "light"
          }
        }
      ]
    },
    {
      "cell_type": "code",
      "execution_count": null,
      "metadata": {
        "id": "UUZm-fFxoZdx",
        "colab": {
          "base_uri": "https://localhost:8080/",
          "height": 506
        },
        "outputId": "00730693-ec5b-4e5c-d757-1da07c8e90ad"
      },
      "outputs": [
        {
          "output_type": "display_data",
          "data": {
            "text/plain": [
              "<Figure size 864x576 with 1 Axes>"
            ],
            "image/png": "[encoded data removed]"
          },
          "metadata": {
            "needs_background": "light"
          }
        }
      ],
      "source": [
        "barWidth = 0.1\n",
        "fig = plt.subplots(figsize =(12, 8))\n",
        "# Set position of bar on X axis\n",
        "method=['PCA','LDA']\n",
        "br1 = np.arange(len(method ))\n",
        "br2 = [x + barWidth for x in br1]\n",
        "br3 = [x + barWidth for x in br2]\n",
        "br4 = [x + barWidth for x in br3]\n",
        "accuracies_300 = [96.2, 79.0]\n",
        "accuracies_250 = [96.0,96.88888888888889]\n",
        "accuracies_200 = [95.75,81.5]\n",
        "accuracies_150 = [96.57142857142857,80.57142857142857]\n",
        "#accuracies_150 = [accuracy_PCA_fnf_150,accuracy_LDA_fnf_150 ]\n",
        "#accuracies_200 = [accuracy_PCA_fnf,accuracy_LDA_fnf ]\n",
        "#accuracies_250 = [accuracy_PCA_fnf_250,accuracy_LDA_fnf_250 ]\n",
        "#accuracies_300 = [accuracy_PCA_fnf_300,accuracy_LDA_fnf_300 ]\n",
        "# Make the plot\n",
        "plt.bar(br1, accuracies_150, color ='r', width = barWidth,\n",
        "        edgecolor ='grey', label ='accuracy_150')\n",
        "plt.bar(br2, accuracies_200, color ='g', width = barWidth,\n",
        "        edgecolor ='grey', label ='accuracy_200')\n",
        "plt.bar(br3, accuracies_250, color ='b', width = barWidth,\n",
        "        edgecolor ='grey', label ='accuracy_250')\n",
        "plt.bar(br4, accuracies_300, color ='k', width = barWidth,\n",
        "        edgecolor ='grey', label ='accuracy_300')\n",
        "plt.xlabel('Method', fontweight ='bold', fontsize = 15)\n",
        "plt.ylabel('Accuracy', fontweight ='bold', fontsize = 15)\n",
        "plt.xticks([r + barWidth for r in range(len(method))],\n",
        "        ['PCA','LDA'])\n",
        "plt.legend()\n",
        "plt.ylim(70, 100)\n",
        "plt.show()"
      ]
    },
    {
      "cell_type": "markdown",
      "metadata": {
        "id": "LOaqpF6kh5yJ"
      },
      "source": [
        "Kernel PCA"
      ]
    },
    {
      "cell_type": "code",
      "execution_count": null,
      "metadata": {
        "id": "P87Xluboh8El",
        "colab": {
          "base_uri": "https://localhost:8080/"
        },
        "outputId": "c9668d78-7abb-42f8-8055-22da55a247bb"
      },
      "outputs": [
        {
          "output_type": "stream",
          "name": "stdout",
          "text": [
            "(200, 200)\n",
            "(200,)\n",
            "0.061191558837890625\n",
            "(200, 200)\n",
            "(200,)\n"
          ]
        }
      ],
      "source": [
        "start_kernel = time.time()\n",
        "U_kernel , Z_kernel , eigen_values_kernel = kernel_pca(training_set,1/(width*height)) #gamma =  1/no. of features\n",
        "end_kernel = time.time()\n",
        "runtime_kernel = end_kernel - start_kernel\n",
        "print(runtime_kernel)\n",
        "U_test_kernel , Z_test_kernel , eigen_values_test_kernel = kernel_pca(testing_set,1/(width*height)) #gamma =  1/no. of features"
      ]
    },
    {
      "cell_type": "code",
      "execution_count": null,
      "metadata": {
        "id": "XVXxrLKakQWa",
        "colab": {
          "base_uri": "https://localhost:8080/"
        },
        "outputId": "13b033fb-6170-4802-bf1e-47017a7b0345"
      },
      "outputs": [
        {
          "output_type": "stream",
          "name": "stdout",
          "text": [
            "180\n"
          ]
        }
      ],
      "source": [
        "kernel_dimensions=dimensions(0.9,eigen_values_kernel)\n",
        "print(kernel_dimensions)\n",
        "projected_matrix_kernel = U_kernel[:, 0 : kernel_dimensions]\n",
        "\n",
        "projected_matrix_test_kernel = U_test_kernel[:, 0 : kernel_dimensions]"
      ]
    },
    {
      "cell_type": "markdown",
      "metadata": {
        "id": "fHfltpUMkQWa"
      },
      "source": [
        "F-NN Kernel PCA , First NN is KNN with k =1"
      ]
    },
    {
      "cell_type": "code",
      "execution_count": null,
      "metadata": {
        "id": "Go_nNvYlkQWa",
        "colab": {
          "base_uri": "https://localhost:8080/"
        },
        "outputId": "d775d6c4-8722-4590-d817-1a8a6b86067f"
      },
      "outputs": [
        {
          "output_type": "stream",
          "name": "stdout",
          "text": [
            "alpha = 0.9 accuracy:100.0%\n"
          ]
        }
      ],
      "source": [
        "accuracy_kernel = KNN(1,projected_matrix_test_kernel,projected_matrix_kernel,training_labels,testing_labels) #First NN is KNN with k =1\n",
        "print(f'alpha = 0.9 accuracy:{accuracy_kernel}%')\n"
      ]
    },
    {
      "cell_type": "markdown",
      "metadata": {
        "id": "AHs5Ccekiq_O"
      },
      "source": [
        "Regularized LDA"
      ]
    },
    {
      "cell_type": "code",
      "execution_count": 37,
      "metadata": {
        "id": "yEIfDLbLitRT",
        "colab": {
          "base_uri": "https://localhost:8080/"
        },
        "outputId": "44db842e-03bd-4651-8638-285e371a67ec"
      },
      "outputs": [
        {
          "output_type": "stream",
          "name": "stdout",
          "text": [
            "563.5903015136719\n"
          ]
        }
      ],
      "source": [
        "start_regularized_LDA = time.time()\n",
        "alpha = 0.25\n",
        "U_regularized_LDA,eigen_values_regularized_LDA = regularized_LDA(training_set, training_labels, subjects_no, width, height, alpha)\n",
        "end_regularized_LDA = time.time()\n",
        "runtime_regularized_LDA = end_regularized_LDA - start_regularized_LDA\n",
        "print(runtime_regularized_LDA)"
      ]
    },
    {
      "cell_type": "code",
      "execution_count": 42,
      "metadata": {
        "colab": {
          "base_uri": "https://localhost:8080/"
        },
        "id": "P3dP7L_qqkLd",
        "outputId": "4b111555-f2ae-44db-c177-033b2e1137b7"
      },
      "outputs": [
        {
          "output_type": "stream",
          "name": "stdout",
          "text": [
            "5\n"
          ]
        }
      ],
      "source": [
        "eigen_values_regularized_LDA_no = dimensions(0.9,np.diag(eigen_values_regularized_LDA))\n",
        "print(eigen_values_regularized_LDA_no)"
      ]
    },
    {
      "cell_type": "code",
      "source": [
        "U_regularized_LDA = U_regularized_LDA[:,0: eigen_values_regularized_LDA_no]"
      ],
      "metadata": {
        "id": "XIAU5DV2o0Wx"
      },
      "execution_count": 39,
      "outputs": []
    },
    {
      "cell_type": "markdown",
      "metadata": {
        "id": "ejp_WrHLqm4w"
      },
      "source": [
        "Projection"
      ]
    },
    {
      "cell_type": "code",
      "execution_count": 40,
      "metadata": {
        "id": "6HLE02GNqm4x"
      },
      "outputs": [],
      "source": [
        "projected_matrix_regularized_LDA = np.dot(Z,U_regularized_LDA)\n",
        "projected_matrix_test_regularized_LDA = np.dot(Z_testing,U_regularized_LDA)"
      ]
    },
    {
      "cell_type": "markdown",
      "metadata": {
        "id": "XgnjB6q4qm4x"
      },
      "source": [
        "F-NN Regularized LDA"
      ]
    },
    {
      "cell_type": "code",
      "execution_count": 41,
      "metadata": {
        "colab": {
          "base_uri": "https://localhost:8080/",
          "height": 1000
        },
        "id": "k5MJhxIeqm4y",
        "outputId": "be2a349a-56dc-40a1-c6b3-d01808ddbe29"
      },
      "outputs": [
        {
          "output_type": "stream",
          "name": "stdout",
          "text": [
            "This face is correctly classified to its class\n",
            "training\n",
            "[[28.]]\n"
          ]
        },
        {
          "output_type": "display_data",
          "data": {
            "text/plain": [
              "<PIL.Image.Image image mode=L size=92x112 at 0x7F725896E1C0>"
            ],
            "image/png": "[encoded data removed]"
          },
          "metadata": {}
        },
        {
          "output_type": "stream",
          "name": "stdout",
          "text": [
            "testing\n",
            "[28.]\n"
          ]
        },
        {
          "output_type": "display_data",
          "data": {
            "text/plain": [
              "<PIL.Image.Image image mode=L size=92x112 at 0x7F725896E6A0>"
            ],
            "image/png": "[encoded data removed]"
          },
          "metadata": {}
        },
        {
          "output_type": "stream",
          "name": "stdout",
          "text": [
            "-------------------------------------\n",
            "This face is correctly classified to its class\n",
            "training\n",
            "[[7.]]\n"
          ]
        },
        {
          "output_type": "display_data",
          "data": {
            "text/plain": [
              "<PIL.Image.Image image mode=L size=92x112 at 0x7F725896EA00>"
            ],
            "image/png": "[encoded data removed]"
          },
          "metadata": {}
        },
        {
          "output_type": "stream",
          "name": "stdout",
          "text": [
            "testing\n",
            "[7.]\n"
          ]
        },
        {
          "output_type": "display_data",
          "data": {
            "text/plain": [
              "<PIL.Image.Image image mode=L size=92x112 at 0x7F725896E160>"
            ],
            "image/png": "[encoded data removed]"
          },
          "metadata": {}
        },
        {
          "output_type": "stream",
          "name": "stdout",
          "text": [
            "-------------------------------------\n",
            "This face is correctly classified to its class\n",
            "training\n",
            "[[36.]]\n"
          ]
        },
        {
          "output_type": "display_data",
          "data": {
            "text/plain": [
              "<PIL.Image.Image image mode=L size=92x112 at 0x7F725896E340>"
            ],
            "image/png": "[encoded data removed]"
          },
          "metadata": {}
        },
        {
          "output_type": "stream",
          "name": "stdout",
          "text": [
            "testing\n",
            "[36.]\n"
          ]
        },
        {
          "output_type": "display_data",
          "data": {
            "text/plain": [
              "<PIL.Image.Image image mode=L size=92x112 at 0x7F725896E6D0>"
            ],
            "image/png": "[encoded data removed]"
          },
          "metadata": {}
        },
        {
          "output_type": "stream",
          "name": "stdout",
          "text": [
            "-------------------------------------\n",
            "alpha = 0.9 accuracy:90.5%\n"
          ]
        }
      ],
      "source": [
        "accuracy_regularized_LDA = KNN(1,projected_matrix_test_regularized_LDA,projected_matrix_regularized_LDA,training_labels,testing_labels) #First NN is KNN with k =1\n",
        "print(f'alpha = 0.9 accuracy:{accuracy_regularized_LDA}%')"
      ]
    }
  ],
  "metadata": {
    "colab": {
      "provenance": [],
      "include_colab_link": true
    },
    "kernelspec": {
      "display_name": "Python 3",
      "name": "python3"
    },
    "language_info": {
      "name": "python"
    }
  },
  "nbformat": 4,
  "nbformat_minor": 0
}